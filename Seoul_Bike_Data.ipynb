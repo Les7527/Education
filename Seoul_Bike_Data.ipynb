{
 "cells": [
  {
   "cell_type": "markdown",
   "metadata": {
    "tags": []
   },
   "source": [
    "# Machine Learning Workflow - Step 1 - Environment Prepration: Import software libraries"
   ]
  },
  {
   "cell_type": "code",
   "execution_count": 2,
   "metadata": {},
   "outputs": [
    {
     "name": "stdout",
     "output_type": "stream",
     "text": [
      "Libraries used in this project:\n",
      "- NumPy 1.23.5\n",
      "- Pandas 1.5.2\n",
      "- Matplotlib 3.6.2\n",
      "- SciPy 1.9.3\n",
      "- Scikit-learn 1.2.1\n",
      "- Python 3.8.15 | packaged by conda-forge | (default, Nov 22 2022, 08:53:40) \n",
      "[Clang 14.0.6 ]\n",
      "\n"
     ]
    }
   ],
   "source": [
    "#Step 1: Prepare your environment\n",
    "\n",
    "\n",
    "\n",
    "import sys                             # Read system parameters\n",
    "import os                              # Interact with the operating system\n",
    "import numpy as np                     # Work with multi-dimensional arrays and matrices\n",
    "import pandas as pd                    # Manipulate and analyze data\n",
    "import matplotlib                      # Create 2D charts\n",
    "import scipy as sp                     # Perform scientific computing and advanced mathematics\n",
    "import sklearn                         # Perform data mining and analysis\n",
    "import seaborn as sb                   # Perform data visualization\n",
    "\n",
    "# Summarize software libraries used\n",
    "print('Libraries used in this project:')\n",
    "print('- NumPy {}'.format(np.__version__))\n",
    "print('- Pandas {}'.format(pd.__version__))\n",
    "print('- Matplotlib {}'.format(matplotlib.__version__))\n",
    "print('- SciPy {}'.format(sp.__version__))\n",
    "print('- Scikit-learn {}'.format(sklearn.__version__))\n",
    "print('- Python {}\\n'.format(sys.version))"
   ]
  },
  {
   "cell_type": "code",
   "execution_count": 49,
   "metadata": {},
   "outputs": [],
   "source": [
    "import seaborn as sb"
   ]
  },
  {
   "cell_type": "markdown",
   "metadata": {
    "tags": []
   },
   "source": [
    "# Machine Learning Workflow - Step 2 - Environment Prepration: Import software librariesLoad the dataset"
   ]
  },
  {
   "cell_type": "code",
   "execution_count": 7,
   "metadata": {},
   "outputs": [
    {
     "name": "stdout",
     "output_type": "stream",
     "text": [
      "Data files in this project: ['seoul_bike_data.csv']\n",
      "Loaded 8394 records from ./seoul_bike_data/seoul_bike_data.csv.\n",
      "\n"
     ]
    }
   ],
   "source": [
    "PROJECT_ROOT_DIR = '.'\n",
    "DATA_PATH = os.path.join(PROJECT_ROOT_DIR, 'seoul_bike_data')\n",
    "print('Data files in this project:', os.listdir(DATA_PATH) )\n",
    "\n",
    "# Read the raw dataset\n",
    "data_raw_file = os.path.join( DATA_PATH, 'seoul_bike_data.csv' )\n",
    "data_raw = pd.read_csv( data_raw_file )\n",
    "print('Loaded {} records from {}.\\n'.format(len(data_raw), data_raw_file))"
   ]
  },
  {
   "cell_type": "markdown",
   "metadata": {},
   "source": [
    "# Get acquainted with the dataset"
   ]
  },
  {
   "cell_type": "code",
   "execution_count": 8,
   "metadata": {},
   "outputs": [
    {
     "name": "stdout",
     "output_type": "stream",
     "text": [
      "<class 'pandas.core.frame.DataFrame'>\n",
      "RangeIndex: 8394 entries, 0 to 8393\n",
      "Data columns (total 9 columns):\n",
      " #   Column        Non-Null Count  Dtype  \n",
      "---  ------        --------------  -----  \n",
      " 0   bikes_rented  8394 non-null   int64  \n",
      " 1   temp          8394 non-null   float64\n",
      " 2   humidity      8394 non-null   int64  \n",
      " 3   wind_speed    8394 non-null   float64\n",
      " 4   visibility    8394 non-null   int64  \n",
      " 5   dew_temp      8394 non-null   float64\n",
      " 6   solar_rad     8394 non-null   float64\n",
      " 7   rainfall      8394 non-null   float64\n",
      " 8   snowfall      8394 non-null   float64\n",
      "dtypes: float64(6), int64(3)\n",
      "memory usage: 590.3 KB\n",
      "None\n"
     ]
    }
   ],
   "source": [
    "print(data_raw.info())     # View features and data types"
   ]
  },
  {
   "cell_type": "markdown",
   "metadata": {},
   "source": [
    "# Show example records"
   ]
  },
  {
   "cell_type": "code",
   "execution_count": 9,
   "metadata": {},
   "outputs": [
    {
     "name": "stdout",
     "output_type": "stream",
     "text": [
      "   bikes_rented  temp  humidity  wind_speed  visibility  dew_temp  solar_rad  \\\n",
      "0           254  -5.2        37         2.2        2000     -17.6       0.00   \n",
      "1           204  -5.5        38         0.8        2000     -17.6       0.00   \n",
      "2           173  -6.0        39         1.0        2000     -17.7       0.00   \n",
      "3           107  -6.2        40         0.9        2000     -17.6       0.00   \n",
      "4            78  -6.0        36         2.3        2000     -18.6       0.00   \n",
      "5           100  -6.4        37         1.5        2000     -18.7       0.00   \n",
      "6           181  -6.6        35         1.3        2000     -19.5       0.00   \n",
      "7           460  -7.4        38         0.9        2000     -19.3       0.00   \n",
      "8           930  -7.6        37         1.1        2000     -19.8       0.01   \n",
      "9           490  -6.5        27         0.5        1928     -22.4       0.23   \n",
      "\n",
      "   rainfall  snowfall  \n",
      "0       0.0       0.0  \n",
      "1       0.0       0.0  \n",
      "2       0.0       0.0  \n",
      "3       0.0       0.0  \n",
      "4       0.0       0.0  \n",
      "5       0.0       0.0  \n",
      "6       0.0       0.0  \n",
      "7       0.0       0.0  \n",
      "8       0.0       0.0  \n",
      "9       0.0       0.0  \n"
     ]
    }
   ],
   "source": [
    "# View first ten records\n",
    "print(data_raw.head(10))"
   ]
  },
  {
   "cell_type": "code",
   "execution_count": null,
   "metadata": {},
   "outputs": [],
   "source": [
    "# Identify Dtypes to begin dealing with \"0\" entries...."
   ]
  },
  {
   "cell_type": "code",
   "execution_count": 17,
   "metadata": {},
   "outputs": [
    {
     "name": "stdout",
     "output_type": "stream",
     "text": [
      "<class 'pandas.core.frame.DataFrame'>\n",
      "RangeIndex: 8394 entries, 0 to 8393\n",
      "Data columns (total 9 columns):\n",
      " #   Column        Non-Null Count  Dtype  \n",
      "---  ------        --------------  -----  \n",
      " 0   bikes_rented  8394 non-null   int64  \n",
      " 1   temp          8394 non-null   float64\n",
      " 2   humidity      8394 non-null   int64  \n",
      " 3   wind_speed    8394 non-null   float64\n",
      " 4   visibility    8394 non-null   int64  \n",
      " 5   dew_temp      8394 non-null   float64\n",
      " 6   solar_rad     8394 non-null   float64\n",
      " 7   rainfall      8394 non-null   float64\n",
      " 8   snowfall      8394 non-null   float64\n",
      "dtypes: float64(6), int64(3)\n",
      "memory usage: 590.3 KB\n"
     ]
    }
   ],
   "source": [
    "# View data types and see if there are missing entries.\n",
    "data_raw.info()"
   ]
  },
  {
   "cell_type": "code",
   "execution_count": 18,
   "metadata": {},
   "outputs": [
    {
     "data": {
      "text/plain": [
       "bikes_rented    0\n",
       "temp            0\n",
       "humidity        0\n",
       "wind_speed      0\n",
       "visibility      0\n",
       "dew_temp        0\n",
       "solar_rad       0\n",
       "rainfall        0\n",
       "snowfall        0\n",
       "dtype: int64"
      ]
     },
     "execution_count": 18,
     "metadata": {},
     "output_type": "execute_result"
    }
   ],
   "source": [
    " data_raw.isnull().sum()"
   ]
  },
  {
   "cell_type": "markdown",
   "metadata": {},
   "source": [
    "# Create a summarized list of general statistics"
   ]
  },
  {
   "cell_type": "code",
   "execution_count": 10,
   "metadata": {},
   "outputs": [
    {
     "name": "stdout",
     "output_type": "stream",
     "text": [
      "       bikes_rented    temp  humidity  wind_speed  visibility  dew_temp  \\\n",
      "count       8394.00 8394.00   8394.00     8394.00     8394.00   8394.00   \n",
      "mean         731.37   12.81     58.07        1.74     1433.23      3.96   \n",
      "std          643.62   12.11     20.48        1.03      609.80     13.24   \n",
      "min            2.00  -17.80      0.00        0.10       27.00    -30.60   \n",
      "25%          214.00    3.10     42.00        1.00      932.25     -5.10   \n",
      "50%          546.00   13.60     57.00        1.50     1690.00      4.80   \n",
      "75%         1088.00   22.70     74.00        2.30     2000.00     15.20   \n",
      "max         3556.00   39.40     98.00        7.40     2000.00     27.20   \n",
      "\n",
      "       solar_rad  rainfall  snowfall  \n",
      "count    8394.00   8394.00   8394.00  \n",
      "mean        0.57      0.15      0.08  \n",
      "std         0.87      1.13      0.45  \n",
      "min         0.00      0.00      0.00  \n",
      "25%         0.00      0.00      0.00  \n",
      "50%         0.01      0.00      0.00  \n",
      "75%         0.94      0.00      0.00  \n",
      "max         3.52     35.00      8.80  \n"
     ]
    }
   ],
   "source": [
    "with pd.option_context('float_format', '{:.2f}'.format): \n",
    "    print( data_raw.describe() )"
   ]
  },
  {
   "cell_type": "markdown",
   "metadata": {},
   "source": [
    "# Since we are most concerned with the label of \"bikes_rented\", idenitify columns with a direct corelation\n",
    "data_raw.corr()"
   ]
  },
  {
   "cell_type": "code",
   "execution_count": 48,
   "metadata": {},
   "outputs": [
    {
     "data": {
      "text/html": [
       "<div>\n",
       "<style scoped>\n",
       "    .dataframe tbody tr th:only-of-type {\n",
       "        vertical-align: middle;\n",
       "    }\n",
       "\n",
       "    .dataframe tbody tr th {\n",
       "        vertical-align: top;\n",
       "    }\n",
       "\n",
       "    .dataframe thead th {\n",
       "        text-align: right;\n",
       "    }\n",
       "</style>\n",
       "<table border=\"1\" class=\"dataframe\">\n",
       "  <thead>\n",
       "    <tr style=\"text-align: right;\">\n",
       "      <th></th>\n",
       "      <th>bikes_rented</th>\n",
       "      <th>temp</th>\n",
       "      <th>humidity</th>\n",
       "      <th>wind_speed</th>\n",
       "      <th>visibility</th>\n",
       "      <th>dew_temp</th>\n",
       "      <th>solar_rad</th>\n",
       "      <th>rainfall</th>\n",
       "      <th>snowfall</th>\n",
       "    </tr>\n",
       "  </thead>\n",
       "  <tbody>\n",
       "    <tr>\n",
       "      <th>bikes_rented</th>\n",
       "      <td>1.000000</td>\n",
       "      <td>0.563440</td>\n",
       "      <td>-0.201466</td>\n",
       "      <td>0.120961</td>\n",
       "      <td>0.213989</td>\n",
       "      <td>0.401160</td>\n",
       "      <td>0.272748</td>\n",
       "      <td>-0.128794</td>\n",
       "      <td>-0.151881</td>\n",
       "    </tr>\n",
       "    <tr>\n",
       "      <th>temp</th>\n",
       "      <td>0.563440</td>\n",
       "      <td>1.000000</td>\n",
       "      <td>0.165484</td>\n",
       "      <td>-0.044827</td>\n",
       "      <td>0.031410</td>\n",
       "      <td>0.914372</td>\n",
       "      <td>0.354692</td>\n",
       "      <td>0.052120</td>\n",
       "      <td>-0.218070</td>\n",
       "    </tr>\n",
       "    <tr>\n",
       "      <th>humidity</th>\n",
       "      <td>-0.201466</td>\n",
       "      <td>0.165484</td>\n",
       "      <td>1.000000</td>\n",
       "      <td>-0.336857</td>\n",
       "      <td>-0.549300</td>\n",
       "      <td>0.538730</td>\n",
       "      <td>-0.457904</td>\n",
       "      <td>0.237436</td>\n",
       "      <td>0.110487</td>\n",
       "    </tr>\n",
       "    <tr>\n",
       "      <th>wind_speed</th>\n",
       "      <td>0.120961</td>\n",
       "      <td>-0.044827</td>\n",
       "      <td>-0.336857</td>\n",
       "      <td>1.000000</td>\n",
       "      <td>0.184935</td>\n",
       "      <td>-0.182518</td>\n",
       "      <td>0.321812</td>\n",
       "      <td>-0.025538</td>\n",
       "      <td>-0.004840</td>\n",
       "    </tr>\n",
       "    <tr>\n",
       "      <th>visibility</th>\n",
       "      <td>0.213989</td>\n",
       "      <td>0.031410</td>\n",
       "      <td>-0.549300</td>\n",
       "      <td>0.184935</td>\n",
       "      <td>1.000000</td>\n",
       "      <td>-0.180199</td>\n",
       "      <td>0.154676</td>\n",
       "      <td>-0.169727</td>\n",
       "      <td>-0.123300</td>\n",
       "    </tr>\n",
       "    <tr>\n",
       "      <th>dew_temp</th>\n",
       "      <td>0.401160</td>\n",
       "      <td>0.914372</td>\n",
       "      <td>0.538730</td>\n",
       "      <td>-0.182518</td>\n",
       "      <td>-0.180199</td>\n",
       "      <td>1.000000</td>\n",
       "      <td>0.098152</td>\n",
       "      <td>0.127034</td>\n",
       "      <td>-0.149969</td>\n",
       "    </tr>\n",
       "    <tr>\n",
       "      <th>solar_rad</th>\n",
       "      <td>0.272748</td>\n",
       "      <td>0.354692</td>\n",
       "      <td>-0.457904</td>\n",
       "      <td>0.321812</td>\n",
       "      <td>0.154676</td>\n",
       "      <td>0.098152</td>\n",
       "      <td>1.000000</td>\n",
       "      <td>-0.074607</td>\n",
       "      <td>-0.073923</td>\n",
       "    </tr>\n",
       "    <tr>\n",
       "      <th>rainfall</th>\n",
       "      <td>-0.128794</td>\n",
       "      <td>0.052120</td>\n",
       "      <td>0.237436</td>\n",
       "      <td>-0.025538</td>\n",
       "      <td>-0.169727</td>\n",
       "      <td>0.127034</td>\n",
       "      <td>-0.074607</td>\n",
       "      <td>1.000000</td>\n",
       "      <td>0.008712</td>\n",
       "    </tr>\n",
       "    <tr>\n",
       "      <th>snowfall</th>\n",
       "      <td>-0.151881</td>\n",
       "      <td>-0.218070</td>\n",
       "      <td>0.110487</td>\n",
       "      <td>-0.004840</td>\n",
       "      <td>-0.123300</td>\n",
       "      <td>-0.149969</td>\n",
       "      <td>-0.073923</td>\n",
       "      <td>0.008712</td>\n",
       "      <td>1.000000</td>\n",
       "    </tr>\n",
       "  </tbody>\n",
       "</table>\n",
       "</div>"
      ],
      "text/plain": [
       "              bikes_rented      temp  humidity  wind_speed  visibility  \\\n",
       "bikes_rented      1.000000  0.563440 -0.201466    0.120961    0.213989   \n",
       "temp              0.563440  1.000000  0.165484   -0.044827    0.031410   \n",
       "humidity         -0.201466  0.165484  1.000000   -0.336857   -0.549300   \n",
       "wind_speed        0.120961 -0.044827 -0.336857    1.000000    0.184935   \n",
       "visibility        0.213989  0.031410 -0.549300    0.184935    1.000000   \n",
       "dew_temp          0.401160  0.914372  0.538730   -0.182518   -0.180199   \n",
       "solar_rad         0.272748  0.354692 -0.457904    0.321812    0.154676   \n",
       "rainfall         -0.128794  0.052120  0.237436   -0.025538   -0.169727   \n",
       "snowfall         -0.151881 -0.218070  0.110487   -0.004840   -0.123300   \n",
       "\n",
       "              dew_temp  solar_rad  rainfall  snowfall  \n",
       "bikes_rented  0.401160   0.272748 -0.128794 -0.151881  \n",
       "temp          0.914372   0.354692  0.052120 -0.218070  \n",
       "humidity      0.538730  -0.457904  0.237436  0.110487  \n",
       "wind_speed   -0.182518   0.321812 -0.025538 -0.004840  \n",
       "visibility   -0.180199   0.154676 -0.169727 -0.123300  \n",
       "dew_temp      1.000000   0.098152  0.127034 -0.149969  \n",
       "solar_rad     0.098152   1.000000 -0.074607 -0.073923  \n",
       "rainfall      0.127034  -0.074607  1.000000  0.008712  \n",
       "snowfall     -0.149969  -0.073923  0.008712  1.000000  "
      ]
     },
     "execution_count": 48,
     "metadata": {},
     "output_type": "execute_result"
    }
   ],
   "source": [
    "data_raw.corr()"
   ]
  },
  {
   "cell_type": "code",
   "execution_count": 50,
   "metadata": {},
   "outputs": [
    {
     "data": {
      "image/png": "[encoded data removed]",
      "text/plain": [
       "<Figure size 1600x900 with 2 Axes>"
      ]
     },
     "metadata": {},
     "output_type": "display_data"
    }
   ],
   "source": [
    "# Seaborn will plot the correlation matrix in heatmap format\n",
    "plt.figure(figsize=(16,9))\n",
    "sb.heatmap(data_raw.corr(), cmap='viridis', annot=True, fmt='.2g', linewidths=2)\n",
    "plt.show()"
   ]
  },
  {
   "cell_type": "markdown",
   "metadata": {},
   "source": [
    "# Use histograms to visualize the distribution of various features"
   ]
  },
  {
   "cell_type": "code",
   "execution_count": 54,
   "metadata": {},
   "outputs": [
    {
     "data": {
      "image/png": "[encoded data removed]",
      "text/plain": [
       "<Figure size 2000x1500 with 9 Axes>"
      ]
     },
     "metadata": {},
     "output_type": "display_data"
    },
    {
     "data": {
      "text/plain": [
       "<Figure size 640x480 with 0 Axes>"
      ]
     },
     "metadata": {},
     "output_type": "display_data"
    }
   ],
   "source": [
    "mpl.rc('axes', labelsize=14)\n",
    "mpl.rc('xtick', labelsize=12)\n",
    "mpl.rc('ytick', labelsize=12)\n",
    "\n",
    "data_raw.hist(figsize=(20,15));\n",
    "plt.figure();"
   ]
  },
  {
   "cell_type": "markdown",
   "metadata": {},
   "source": [
    "# Visualize with a geographic map to gain insights regarding location"
   ]
  },
  {
   "cell_type": "markdown",
   "metadata": {},
   "source": [
    "# Split the data into training and testing sets and labels"
   ]
  },
  {
   "cell_type": "code",
   "execution_count": 56,
   "metadata": {},
   "outputs": [],
   "source": [
    "# We need split the training and test datasets, as well as their labels\n",
    "# Execute and complete a comparison between the original data and the training sets\n",
    "from sklearn.model_selection import train_test_split"
   ]
  },
  {
   "cell_type": "code",
   "execution_count": 57,
   "metadata": {},
   "outputs": [
    {
     "data": {
      "text/plain": [
       "(8394, 9)"
      ]
     },
     "execution_count": 57,
     "metadata": {},
     "output_type": "execute_result"
    }
   ],
   "source": [
    "data_raw.shape"
   ]
  },
  {
   "cell_type": "code",
   "execution_count": 58,
   "metadata": {},
   "outputs": [
    {
     "data": {
      "text/plain": [
       "(array([[-5.2, 37. ,  2.2, ...,  0. ,  0. ,  0. ],\n",
       "        [-5.5, 38. ,  0.8, ...,  0. ,  0. ,  0. ],\n",
       "        [-6. , 39. ,  1. , ...,  0. ,  0. ,  0. ],\n",
       "        ...,\n",
       "        [ 2.6, 39. ,  0.3, ...,  0. ,  0. ,  0. ],\n",
       "        [ 2.1, 41. ,  1. , ...,  0. ,  0. ,  0. ],\n",
       "        [ 1.9, 43. ,  1.3, ...,  0. ,  0. ,  0. ]]),\n",
       " array([254, 204, 173, ..., 694, 712, 584]))"
      ]
     },
     "execution_count": 58,
     "metadata": {},
     "output_type": "execute_result"
    }
   ],
   "source": [
    "# Build your arrays\n",
    "x = data_raw.iloc[:,1:]\n",
    "y = data_raw.iloc[:,0]\n",
    "x.values, y.values"
   ]
  },
  {
   "cell_type": "code",
   "execution_count": 87,
   "metadata": {},
   "outputs": [
    {
     "data": {
      "text/plain": [
       "((6715, 8), (6715,))"
      ]
     },
     "execution_count": 87,
     "metadata": {},
     "output_type": "execute_result"
    }
   ],
   "source": [
    "# Confirm delta between arrays\n",
    "x_train, x_test, y_train, y_test = train_test_split(x, y, test_size=0.2, random_state=0)\n",
    "x_train.shape, y_train.shape\n"
   ]
  },
  {
   "cell_type": "markdown",
   "metadata": {},
   "source": [
    "# Build and test a linear regression model - Round 1"
   ]
  },
  {
   "cell_type": "code",
   "execution_count": 94,
   "metadata": {},
   "outputs": [
    {
     "data": {
      "text/html": [
       "<style>#sk-container-id-4 {color: black;background-color: white;}#sk-container-id-4 pre{padding: 0;}#sk-container-id-4 div.sk-toggleable {background-color: white;}#sk-container-id-4 label.sk-toggleable__label {cursor: pointer;display: block;width: 100%;margin-bottom: 0;padding: 0.3em;box-sizing: border-box;text-align: center;}#sk-container-id-4 label.sk-toggleable__label-arrow:before {content: \"▸\";float: left;margin-right: 0.25em;color: #696969;}#sk-container-id-4 label.sk-toggleable__label-arrow:hover:before {color: black;}#sk-container-id-4 div.sk-estimator:hover label.sk-toggleable__label-arrow:before {color: black;}#sk-container-id-4 div.sk-toggleable__content {max-height: 0;max-width: 0;overflow: hidden;text-align: left;background-color: #f0f8ff;}#sk-container-id-4 div.sk-toggleable__content pre {margin: 0.2em;color: black;border-radius: 0.25em;background-color: #f0f8ff;}#sk-container-id-4 input.sk-toggleable__control:checked~div.sk-toggleable__content {max-height: 200px;max-width: 100%;overflow: auto;}#sk-container-id-4 input.sk-toggleable__control:checked~label.sk-toggleable__label-arrow:before {content: \"▾\";}#sk-container-id-4 div.sk-estimator input.sk-toggleable__control:checked~label.sk-toggleable__label {background-color: #d4ebff;}#sk-container-id-4 div.sk-label input.sk-toggleable__control:checked~label.sk-toggleable__label {background-color: #d4ebff;}#sk-container-id-4 input.sk-hidden--visually {border: 0;clip: rect(1px 1px 1px 1px);clip: rect(1px, 1px, 1px, 1px);height: 1px;margin: -1px;overflow: hidden;padding: 0;position: absolute;width: 1px;}#sk-container-id-4 div.sk-estimator {font-family: monospace;background-color: #f0f8ff;border: 1px dotted black;border-radius: 0.25em;box-sizing: border-box;margin-bottom: 0.5em;}#sk-container-id-4 div.sk-estimator:hover {background-color: #d4ebff;}#sk-container-id-4 div.sk-parallel-item::after {content: \"\";width: 100%;border-bottom: 1px solid gray;flex-grow: 1;}#sk-container-id-4 div.sk-label:hover label.sk-toggleable__label {background-color: #d4ebff;}#sk-container-id-4 div.sk-serial::before {content: \"\";position: absolute;border-left: 1px solid gray;box-sizing: border-box;top: 0;bottom: 0;left: 50%;z-index: 0;}#sk-container-id-4 div.sk-serial {display: flex;flex-direction: column;align-items: center;background-color: white;padding-right: 0.2em;padding-left: 0.2em;position: relative;}#sk-container-id-4 div.sk-item {position: relative;z-index: 1;}#sk-container-id-4 div.sk-parallel {display: flex;align-items: stretch;justify-content: center;background-color: white;position: relative;}#sk-container-id-4 div.sk-item::before, #sk-container-id-4 div.sk-parallel-item::before {content: \"\";position: absolute;border-left: 1px solid gray;box-sizing: border-box;top: 0;bottom: 0;left: 50%;z-index: -1;}#sk-container-id-4 div.sk-parallel-item {display: flex;flex-direction: column;z-index: 1;position: relative;background-color: white;}#sk-container-id-4 div.sk-parallel-item:first-child::after {align-self: flex-end;width: 50%;}#sk-container-id-4 div.sk-parallel-item:last-child::after {align-self: flex-start;width: 50%;}#sk-container-id-4 div.sk-parallel-item:only-child::after {width: 0;}#sk-container-id-4 div.sk-dashed-wrapped {border: 1px dashed gray;margin: 0 0.4em 0.5em 0.4em;box-sizing: border-box;padding-bottom: 0.4em;background-color: white;}#sk-container-id-4 div.sk-label label {font-family: monospace;font-weight: bold;display: inline-block;line-height: 1.2em;}#sk-container-id-4 div.sk-label-container {text-align: center;}#sk-container-id-4 div.sk-container {/* jupyter's `normalize.less` sets `[hidden] { display: none; }` but bootstrap.min.css set `[hidden] { display: none !important; }` so we also need the `!important` here to be able to override the default hidden behavior on the sphinx rendered scikit-learn.org. See: https://github.com/scikit-learn/scikit-learn/issues/21755 */display: inline-block !important;position: relative;}#sk-container-id-4 div.sk-text-repr-fallback {display: none;}</style><div id=\"sk-container-id-4\" class=\"sk-top-container\"><div class=\"sk-text-repr-fallback\"><pre>LinearRegression()</pre><b>In a Jupyter environment, please rerun this cell to show the HTML representation or trust the notebook. <br />On GitHub, the HTML representation is unable to render, please try loading this page with nbviewer.org.</b></div><div class=\"sk-container\" hidden><div class=\"sk-item\"><div class=\"sk-estimator sk-toggleable\"><input class=\"sk-toggleable__control sk-hidden--visually\" id=\"sk-estimator-id-4\" type=\"checkbox\" checked><label for=\"sk-estimator-id-4\" class=\"sk-toggleable__label sk-toggleable__label-arrow\">LinearRegression</label><div class=\"sk-toggleable__content\"><pre>LinearRegression()</pre></div></div></div></div></div>"
      ],
      "text/plain": [
       "LinearRegression()"
      ]
     },
     "execution_count": 94,
     "metadata": {},
     "output_type": "execute_result"
    }
   ],
   "source": [
    "from sklearn.linear_model import LinearRegression\n",
    "from time import time\n",
    "\n",
    "# Create a linear regression model\n",
    "# Assemble the model in the training data as well as the models\n",
    "\n",
    "from sklearn.linear_model import LinearRegression\n",
    "LinReg = LinearRegression()\n",
    "LinReg.fit (x_train,y_train)"
   ]
  },
  {
   "cell_type": "markdown",
   "metadata": {},
   "source": [
    "# Use the holdout dataset to test the model"
   ]
  },
  {
   "cell_type": "code",
   "execution_count": 96,
   "metadata": {},
   "outputs": [
    {
     "data": {
      "text/plain": [
       "0.44786272917347336"
      ]
     },
     "execution_count": 96,
     "metadata": {},
     "output_type": "execute_result"
    }
   ],
   "source": [
    "# Evaluate the model's performance using test data and labels\n",
    "LinReg.score(x_test,y_test)\n"
   ]
  },
  {
   "cell_type": "markdown",
   "metadata": {},
   "source": [
    "# Compare predicted values to actual values"
   ]
  },
  {
   "cell_type": "code",
   "execution_count": 103,
   "metadata": {},
   "outputs": [
    {
     "data": {
      "text/plain": [
       "array([ 857.323119  ,  751.8098849 ,  655.08069967, 1226.26561471,\n",
       "       1590.38483999,  285.88722901, 1454.77870554,  711.79165875,\n",
       "        325.36163583,  598.10222996])"
      ]
     },
     "execution_count": 103,
     "metadata": {},
     "output_type": "execute_result"
    }
   ],
   "source": [
    "# Now, we'll need to make predictions on our test set\n",
    "LinReg_pred = LinReg.predict(x_test)\n",
    "# Let's look at the first 10 values against the actual values\n",
    "LinReg_pred[:10]"
   ]
  },
  {
   "cell_type": "code",
   "execution_count": 113,
   "metadata": {},
   "outputs": [
    {
     "data": {
      "text/plain": [
       "2417     946\n",
       "2933    1033\n",
       "7268    1255\n",
       "6342    2022\n",
       "5697    1697\n",
       "1259     184\n",
       "5622     920\n",
       "2431     616\n",
       "1916     388\n",
       "2650     668\n",
       "Name: bikes_rented, dtype: int64"
      ]
     },
     "execution_count": 113,
     "metadata": {},
     "output_type": "execute_result"
    }
   ],
   "source": [
    "y_test.iloc[:10]"
   ]
  },
  {
   "cell_type": "markdown",
   "metadata": {},
   "source": [
    "# Identify outliers"
   ]
  },
  {
   "cell_type": "code",
   "execution_count": 114,
   "metadata": {},
   "outputs": [
    {
     "data": {
      "image/png": "[encoded data removed]",
      "text/plain": [
       "<Figure size 640x480 with 1 Axes>"
      ]
     },
     "metadata": {},
     "output_type": "display_data"
    }
   ],
   "source": [
    "#Create a box plot to see distributions\n",
    "plt.boxplot(x=data_raw.bikes_rented)\n",
    "plt.title(\"Bicycle Rental BoxPlot Grpah\")\n",
    "plt.show()"
   ]
  },
  {
   "cell_type": "code",
   "execution_count": 115,
   "metadata": {},
   "outputs": [
    {
     "data": {
      "image/png": "[encoded data removed]",
      "text/plain": [
       "<Figure size 640x480 with 1 Axes>"
      ]
     },
     "metadata": {},
     "output_type": "display_data"
    }
   ],
   "source": [
    "#Create an alternate boxplot to see the wind version\n",
    "plt.boxplot(x=data_raw.wind_speed)\n",
    "plt.title(\"Wind Speed Boxplot Graph\")\n",
    "plt.show()"
   ]
  },
  {
   "cell_type": "markdown",
   "metadata": {},
   "source": [
    "# Examine data values in the outliers"
   ]
  },
  {
   "cell_type": "code",
   "execution_count": 116,
   "metadata": {},
   "outputs": [
    {
     "data": {
      "text/html": [
       "<div>\n",
       "<style scoped>\n",
       "    .dataframe tbody tr th:only-of-type {\n",
       "        vertical-align: middle;\n",
       "    }\n",
       "\n",
       "    .dataframe tbody tr th {\n",
       "        vertical-align: top;\n",
       "    }\n",
       "\n",
       "    .dataframe thead th {\n",
       "        text-align: right;\n",
       "    }\n",
       "</style>\n",
       "<table border=\"1\" class=\"dataframe\">\n",
       "  <thead>\n",
       "    <tr style=\"text-align: right;\">\n",
       "      <th></th>\n",
       "      <th>bikes_rented</th>\n",
       "      <th>temp</th>\n",
       "      <th>humidity</th>\n",
       "      <th>wind_speed</th>\n",
       "      <th>visibility</th>\n",
       "      <th>dew_temp</th>\n",
       "      <th>solar_rad</th>\n",
       "      <th>rainfall</th>\n",
       "      <th>snowfall</th>\n",
       "    </tr>\n",
       "  </thead>\n",
       "  <tbody>\n",
       "    <tr>\n",
       "      <th>4743</th>\n",
       "      <td>3556</td>\n",
       "      <td>24.1</td>\n",
       "      <td>57</td>\n",
       "      <td>2.9</td>\n",
       "      <td>1301</td>\n",
       "      <td>15.0</td>\n",
       "      <td>0.56</td>\n",
       "      <td>0.0</td>\n",
       "      <td>0.0</td>\n",
       "    </tr>\n",
       "  </tbody>\n",
       "</table>\n",
       "</div>"
      ],
      "text/plain": [
       "      bikes_rented  temp  humidity  wind_speed  visibility  dew_temp  \\\n",
       "4743          3556  24.1        57         2.9        1301      15.0   \n",
       "\n",
       "      solar_rad  rainfall  snowfall  \n",
       "4743       0.56       0.0       0.0  "
      ]
     },
     "execution_count": 116,
     "metadata": {},
     "output_type": "execute_result"
    }
   ],
   "source": [
    "#We're now goign to count the number of rows that exceed 3500 bikes rented, based on the Bike rental boxplot\n",
    "data_raw[data_raw[\"bikes_rented\"]>3500]"
   ]
  },
  {
   "cell_type": "code",
   "execution_count": 117,
   "metadata": {},
   "outputs": [
    {
     "data": {
      "text/html": [
       "<div>\n",
       "<style scoped>\n",
       "    .dataframe tbody tr th:only-of-type {\n",
       "        vertical-align: middle;\n",
       "    }\n",
       "\n",
       "    .dataframe tbody tr th {\n",
       "        vertical-align: top;\n",
       "    }\n",
       "\n",
       "    .dataframe thead th {\n",
       "        text-align: right;\n",
       "    }\n",
       "</style>\n",
       "<table border=\"1\" class=\"dataframe\">\n",
       "  <thead>\n",
       "    <tr style=\"text-align: right;\">\n",
       "      <th></th>\n",
       "      <th>bikes_rented</th>\n",
       "      <th>temp</th>\n",
       "      <th>humidity</th>\n",
       "      <th>wind_speed</th>\n",
       "      <th>visibility</th>\n",
       "      <th>dew_temp</th>\n",
       "      <th>solar_rad</th>\n",
       "      <th>rainfall</th>\n",
       "      <th>snowfall</th>\n",
       "    </tr>\n",
       "  </thead>\n",
       "  <tbody>\n",
       "    <tr>\n",
       "      <th>909</th>\n",
       "      <td>146</td>\n",
       "      <td>0.7</td>\n",
       "      <td>77</td>\n",
       "      <td>6.7</td>\n",
       "      <td>692</td>\n",
       "      <td>-2.8</td>\n",
       "      <td>0.0</td>\n",
       "      <td>0.9</td>\n",
       "      <td>1.0</td>\n",
       "    </tr>\n",
       "    <tr>\n",
       "      <th>3108</th>\n",
       "      <td>913</td>\n",
       "      <td>21.2</td>\n",
       "      <td>35</td>\n",
       "      <td>7.4</td>\n",
       "      <td>1992</td>\n",
       "      <td>5.1</td>\n",
       "      <td>1.8</td>\n",
       "      <td>0.0</td>\n",
       "      <td>0.0</td>\n",
       "    </tr>\n",
       "    <tr>\n",
       "      <th>3112</th>\n",
       "      <td>1805</td>\n",
       "      <td>19.7</td>\n",
       "      <td>52</td>\n",
       "      <td>7.2</td>\n",
       "      <td>2000</td>\n",
       "      <td>9.5</td>\n",
       "      <td>0.2</td>\n",
       "      <td>0.0</td>\n",
       "      <td>0.0</td>\n",
       "    </tr>\n",
       "    <tr>\n",
       "      <th>3114</th>\n",
       "      <td>336</td>\n",
       "      <td>19.1</td>\n",
       "      <td>58</td>\n",
       "      <td>6.1</td>\n",
       "      <td>2000</td>\n",
       "      <td>10.6</td>\n",
       "      <td>0.0</td>\n",
       "      <td>0.0</td>\n",
       "      <td>0.0</td>\n",
       "    </tr>\n",
       "    <tr>\n",
       "      <th>3115</th>\n",
       "      <td>133</td>\n",
       "      <td>17.5</td>\n",
       "      <td>70</td>\n",
       "      <td>7.3</td>\n",
       "      <td>1634</td>\n",
       "      <td>11.9</td>\n",
       "      <td>0.0</td>\n",
       "      <td>0.5</td>\n",
       "      <td>0.0</td>\n",
       "    </tr>\n",
       "    <tr>\n",
       "      <th>6230</th>\n",
       "      <td>49</td>\n",
       "      <td>25.3</td>\n",
       "      <td>70</td>\n",
       "      <td>6.9</td>\n",
       "      <td>925</td>\n",
       "      <td>19.4</td>\n",
       "      <td>0.0</td>\n",
       "      <td>0.4</td>\n",
       "      <td>0.0</td>\n",
       "    </tr>\n",
       "  </tbody>\n",
       "</table>\n",
       "</div>"
      ],
      "text/plain": [
       "      bikes_rented  temp  humidity  wind_speed  visibility  dew_temp  \\\n",
       "909            146   0.7        77         6.7         692      -2.8   \n",
       "3108           913  21.2        35         7.4        1992       5.1   \n",
       "3112          1805  19.7        52         7.2        2000       9.5   \n",
       "3114           336  19.1        58         6.1        2000      10.6   \n",
       "3115           133  17.5        70         7.3        1634      11.9   \n",
       "6230            49  25.3        70         6.9         925      19.4   \n",
       "\n",
       "      solar_rad  rainfall  snowfall  \n",
       "909         0.0       0.9       1.0  \n",
       "3108        1.8       0.0       0.0  \n",
       "3112        0.2       0.0       0.0  \n",
       "3114        0.0       0.0       0.0  \n",
       "3115        0.0       0.5       0.0  \n",
       "6230        0.0       0.4       0.0  "
      ]
     },
     "execution_count": 117,
     "metadata": {},
     "output_type": "execute_result"
    }
   ],
   "source": [
    "# We're going to do the same with Wind Speed\n",
    "data_raw[data_raw[\"wind_speed\"] > 6]"
   ]
  },
  {
   "cell_type": "code",
   "execution_count": 128,
   "metadata": {},
   "outputs": [],
   "source": [
    "data_raw2.to_csv(\"Train_DataSet.csv\",index=False)"
   ]
  },
  {
   "cell_type": "markdown",
   "metadata": {
    "tags": []
   },
   "source": [
    "# Drop outliers from the training dataset"
   ]
  },
  {
   "cell_type": "code",
   "execution_count": 118,
   "metadata": {},
   "outputs": [
    {
     "data": {
      "text/html": [
       "<div>\n",
       "<style scoped>\n",
       "    .dataframe tbody tr th:only-of-type {\n",
       "        vertical-align: middle;\n",
       "    }\n",
       "\n",
       "    .dataframe tbody tr th {\n",
       "        vertical-align: top;\n",
       "    }\n",
       "\n",
       "    .dataframe thead th {\n",
       "        text-align: right;\n",
       "    }\n",
       "</style>\n",
       "<table border=\"1\" class=\"dataframe\">\n",
       "  <thead>\n",
       "    <tr style=\"text-align: right;\">\n",
       "      <th></th>\n",
       "      <th>bikes_rented</th>\n",
       "      <th>temp</th>\n",
       "      <th>humidity</th>\n",
       "      <th>wind_speed</th>\n",
       "      <th>visibility</th>\n",
       "      <th>dew_temp</th>\n",
       "      <th>solar_rad</th>\n",
       "      <th>rainfall</th>\n",
       "      <th>snowfall</th>\n",
       "    </tr>\n",
       "  </thead>\n",
       "  <tbody>\n",
       "    <tr>\n",
       "      <th>0</th>\n",
       "      <td>254</td>\n",
       "      <td>-5.2</td>\n",
       "      <td>37</td>\n",
       "      <td>2.2</td>\n",
       "      <td>2000</td>\n",
       "      <td>-17.6</td>\n",
       "      <td>0.0</td>\n",
       "      <td>0.0</td>\n",
       "      <td>0.0</td>\n",
       "    </tr>\n",
       "    <tr>\n",
       "      <th>1</th>\n",
       "      <td>204</td>\n",
       "      <td>-5.5</td>\n",
       "      <td>38</td>\n",
       "      <td>0.8</td>\n",
       "      <td>2000</td>\n",
       "      <td>-17.6</td>\n",
       "      <td>0.0</td>\n",
       "      <td>0.0</td>\n",
       "      <td>0.0</td>\n",
       "    </tr>\n",
       "    <tr>\n",
       "      <th>2</th>\n",
       "      <td>173</td>\n",
       "      <td>-6.0</td>\n",
       "      <td>39</td>\n",
       "      <td>1.0</td>\n",
       "      <td>2000</td>\n",
       "      <td>-17.7</td>\n",
       "      <td>0.0</td>\n",
       "      <td>0.0</td>\n",
       "      <td>0.0</td>\n",
       "    </tr>\n",
       "    <tr>\n",
       "      <th>3</th>\n",
       "      <td>107</td>\n",
       "      <td>-6.2</td>\n",
       "      <td>40</td>\n",
       "      <td>0.9</td>\n",
       "      <td>2000</td>\n",
       "      <td>-17.6</td>\n",
       "      <td>0.0</td>\n",
       "      <td>0.0</td>\n",
       "      <td>0.0</td>\n",
       "    </tr>\n",
       "    <tr>\n",
       "      <th>4</th>\n",
       "      <td>78</td>\n",
       "      <td>-6.0</td>\n",
       "      <td>36</td>\n",
       "      <td>2.3</td>\n",
       "      <td>2000</td>\n",
       "      <td>-18.6</td>\n",
       "      <td>0.0</td>\n",
       "      <td>0.0</td>\n",
       "      <td>0.0</td>\n",
       "    </tr>\n",
       "    <tr>\n",
       "      <th>...</th>\n",
       "      <td>...</td>\n",
       "      <td>...</td>\n",
       "      <td>...</td>\n",
       "      <td>...</td>\n",
       "      <td>...</td>\n",
       "      <td>...</td>\n",
       "      <td>...</td>\n",
       "      <td>...</td>\n",
       "      <td>...</td>\n",
       "    </tr>\n",
       "    <tr>\n",
       "      <th>8389</th>\n",
       "      <td>1003</td>\n",
       "      <td>4.2</td>\n",
       "      <td>34</td>\n",
       "      <td>2.6</td>\n",
       "      <td>1894</td>\n",
       "      <td>-10.3</td>\n",
       "      <td>0.0</td>\n",
       "      <td>0.0</td>\n",
       "      <td>0.0</td>\n",
       "    </tr>\n",
       "    <tr>\n",
       "      <th>8390</th>\n",
       "      <td>764</td>\n",
       "      <td>3.4</td>\n",
       "      <td>37</td>\n",
       "      <td>2.3</td>\n",
       "      <td>2000</td>\n",
       "      <td>-9.9</td>\n",
       "      <td>0.0</td>\n",
       "      <td>0.0</td>\n",
       "      <td>0.0</td>\n",
       "    </tr>\n",
       "    <tr>\n",
       "      <th>8391</th>\n",
       "      <td>694</td>\n",
       "      <td>2.6</td>\n",
       "      <td>39</td>\n",
       "      <td>0.3</td>\n",
       "      <td>1968</td>\n",
       "      <td>-9.9</td>\n",
       "      <td>0.0</td>\n",
       "      <td>0.0</td>\n",
       "      <td>0.0</td>\n",
       "    </tr>\n",
       "    <tr>\n",
       "      <th>8392</th>\n",
       "      <td>712</td>\n",
       "      <td>2.1</td>\n",
       "      <td>41</td>\n",
       "      <td>1.0</td>\n",
       "      <td>1859</td>\n",
       "      <td>-9.8</td>\n",
       "      <td>0.0</td>\n",
       "      <td>0.0</td>\n",
       "      <td>0.0</td>\n",
       "    </tr>\n",
       "    <tr>\n",
       "      <th>8393</th>\n",
       "      <td>584</td>\n",
       "      <td>1.9</td>\n",
       "      <td>43</td>\n",
       "      <td>1.3</td>\n",
       "      <td>1909</td>\n",
       "      <td>-9.3</td>\n",
       "      <td>0.0</td>\n",
       "      <td>0.0</td>\n",
       "      <td>0.0</td>\n",
       "    </tr>\n",
       "  </tbody>\n",
       "</table>\n",
       "<p>8393 rows × 9 columns</p>\n",
       "</div>"
      ],
      "text/plain": [
       "      bikes_rented  temp  humidity  wind_speed  visibility  dew_temp  \\\n",
       "0              254  -5.2        37         2.2        2000     -17.6   \n",
       "1              204  -5.5        38         0.8        2000     -17.6   \n",
       "2              173  -6.0        39         1.0        2000     -17.7   \n",
       "3              107  -6.2        40         0.9        2000     -17.6   \n",
       "4               78  -6.0        36         2.3        2000     -18.6   \n",
       "...            ...   ...       ...         ...         ...       ...   \n",
       "8389          1003   4.2        34         2.6        1894     -10.3   \n",
       "8390           764   3.4        37         2.3        2000      -9.9   \n",
       "8391           694   2.6        39         0.3        1968      -9.9   \n",
       "8392           712   2.1        41         1.0        1859      -9.8   \n",
       "8393           584   1.9        43         1.3        1909      -9.3   \n",
       "\n",
       "      solar_rad  rainfall  snowfall  \n",
       "0           0.0       0.0       0.0  \n",
       "1           0.0       0.0       0.0  \n",
       "2           0.0       0.0       0.0  \n",
       "3           0.0       0.0       0.0  \n",
       "4           0.0       0.0       0.0  \n",
       "...         ...       ...       ...  \n",
       "8389        0.0       0.0       0.0  \n",
       "8390        0.0       0.0       0.0  \n",
       "8391        0.0       0.0       0.0  \n",
       "8392        0.0       0.0       0.0  \n",
       "8393        0.0       0.0       0.0  \n",
       "\n",
       "[8393 rows x 9 columns]"
      ]
     },
     "execution_count": 118,
     "metadata": {},
     "output_type": "execute_result"
    }
   ],
   "source": [
    "#We need to get rid of outliers. So we'll only keep the rows that where the number of bikes rented is less than 3500\n",
    "data_raw = data_raw[data_raw[\"bikes_rented\"] < 3500]\n",
    "data_raw\n"
   ]
  },
  {
   "cell_type": "code",
   "execution_count": 121,
   "metadata": {},
   "outputs": [
    {
     "data": {
      "text/html": [
       "<div>\n",
       "<style scoped>\n",
       "    .dataframe tbody tr th:only-of-type {\n",
       "        vertical-align: middle;\n",
       "    }\n",
       "\n",
       "    .dataframe tbody tr th {\n",
       "        vertical-align: top;\n",
       "    }\n",
       "\n",
       "    .dataframe thead th {\n",
       "        text-align: right;\n",
       "    }\n",
       "</style>\n",
       "<table border=\"1\" class=\"dataframe\">\n",
       "  <thead>\n",
       "    <tr style=\"text-align: right;\">\n",
       "      <th></th>\n",
       "      <th>bikes_rented</th>\n",
       "      <th>temp</th>\n",
       "      <th>humidity</th>\n",
       "      <th>wind_speed</th>\n",
       "      <th>visibility</th>\n",
       "      <th>dew_temp</th>\n",
       "      <th>solar_rad</th>\n",
       "      <th>rainfall</th>\n",
       "      <th>snowfall</th>\n",
       "    </tr>\n",
       "  </thead>\n",
       "  <tbody>\n",
       "    <tr>\n",
       "      <th>0</th>\n",
       "      <td>254</td>\n",
       "      <td>-5.2</td>\n",
       "      <td>37</td>\n",
       "      <td>2.2</td>\n",
       "      <td>2000</td>\n",
       "      <td>-17.6</td>\n",
       "      <td>0.0</td>\n",
       "      <td>0.0</td>\n",
       "      <td>0.0</td>\n",
       "    </tr>\n",
       "    <tr>\n",
       "      <th>1</th>\n",
       "      <td>204</td>\n",
       "      <td>-5.5</td>\n",
       "      <td>38</td>\n",
       "      <td>0.8</td>\n",
       "      <td>2000</td>\n",
       "      <td>-17.6</td>\n",
       "      <td>0.0</td>\n",
       "      <td>0.0</td>\n",
       "      <td>0.0</td>\n",
       "    </tr>\n",
       "    <tr>\n",
       "      <th>2</th>\n",
       "      <td>173</td>\n",
       "      <td>-6.0</td>\n",
       "      <td>39</td>\n",
       "      <td>1.0</td>\n",
       "      <td>2000</td>\n",
       "      <td>-17.7</td>\n",
       "      <td>0.0</td>\n",
       "      <td>0.0</td>\n",
       "      <td>0.0</td>\n",
       "    </tr>\n",
       "    <tr>\n",
       "      <th>3</th>\n",
       "      <td>107</td>\n",
       "      <td>-6.2</td>\n",
       "      <td>40</td>\n",
       "      <td>0.9</td>\n",
       "      <td>2000</td>\n",
       "      <td>-17.6</td>\n",
       "      <td>0.0</td>\n",
       "      <td>0.0</td>\n",
       "      <td>0.0</td>\n",
       "    </tr>\n",
       "    <tr>\n",
       "      <th>4</th>\n",
       "      <td>78</td>\n",
       "      <td>-6.0</td>\n",
       "      <td>36</td>\n",
       "      <td>2.3</td>\n",
       "      <td>2000</td>\n",
       "      <td>-18.6</td>\n",
       "      <td>0.0</td>\n",
       "      <td>0.0</td>\n",
       "      <td>0.0</td>\n",
       "    </tr>\n",
       "    <tr>\n",
       "      <th>...</th>\n",
       "      <td>...</td>\n",
       "      <td>...</td>\n",
       "      <td>...</td>\n",
       "      <td>...</td>\n",
       "      <td>...</td>\n",
       "      <td>...</td>\n",
       "      <td>...</td>\n",
       "      <td>...</td>\n",
       "      <td>...</td>\n",
       "    </tr>\n",
       "    <tr>\n",
       "      <th>8389</th>\n",
       "      <td>1003</td>\n",
       "      <td>4.2</td>\n",
       "      <td>34</td>\n",
       "      <td>2.6</td>\n",
       "      <td>1894</td>\n",
       "      <td>-10.3</td>\n",
       "      <td>0.0</td>\n",
       "      <td>0.0</td>\n",
       "      <td>0.0</td>\n",
       "    </tr>\n",
       "    <tr>\n",
       "      <th>8390</th>\n",
       "      <td>764</td>\n",
       "      <td>3.4</td>\n",
       "      <td>37</td>\n",
       "      <td>2.3</td>\n",
       "      <td>2000</td>\n",
       "      <td>-9.9</td>\n",
       "      <td>0.0</td>\n",
       "      <td>0.0</td>\n",
       "      <td>0.0</td>\n",
       "    </tr>\n",
       "    <tr>\n",
       "      <th>8391</th>\n",
       "      <td>694</td>\n",
       "      <td>2.6</td>\n",
       "      <td>39</td>\n",
       "      <td>0.3</td>\n",
       "      <td>1968</td>\n",
       "      <td>-9.9</td>\n",
       "      <td>0.0</td>\n",
       "      <td>0.0</td>\n",
       "      <td>0.0</td>\n",
       "    </tr>\n",
       "    <tr>\n",
       "      <th>8392</th>\n",
       "      <td>712</td>\n",
       "      <td>2.1</td>\n",
       "      <td>41</td>\n",
       "      <td>1.0</td>\n",
       "      <td>1859</td>\n",
       "      <td>-9.8</td>\n",
       "      <td>0.0</td>\n",
       "      <td>0.0</td>\n",
       "      <td>0.0</td>\n",
       "    </tr>\n",
       "    <tr>\n",
       "      <th>8393</th>\n",
       "      <td>584</td>\n",
       "      <td>1.9</td>\n",
       "      <td>43</td>\n",
       "      <td>1.3</td>\n",
       "      <td>1909</td>\n",
       "      <td>-9.3</td>\n",
       "      <td>0.0</td>\n",
       "      <td>0.0</td>\n",
       "      <td>0.0</td>\n",
       "    </tr>\n",
       "  </tbody>\n",
       "</table>\n",
       "<p>8385 rows × 9 columns</p>\n",
       "</div>"
      ],
      "text/plain": [
       "      bikes_rented  temp  humidity  wind_speed  visibility  dew_temp  \\\n",
       "0              254  -5.2        37         2.2        2000     -17.6   \n",
       "1              204  -5.5        38         0.8        2000     -17.6   \n",
       "2              173  -6.0        39         1.0        2000     -17.7   \n",
       "3              107  -6.2        40         0.9        2000     -17.6   \n",
       "4               78  -6.0        36         2.3        2000     -18.6   \n",
       "...            ...   ...       ...         ...         ...       ...   \n",
       "8389          1003   4.2        34         2.6        1894     -10.3   \n",
       "8390           764   3.4        37         2.3        2000      -9.9   \n",
       "8391           694   2.6        39         0.3        1968      -9.9   \n",
       "8392           712   2.1        41         1.0        1859      -9.8   \n",
       "8393           584   1.9        43         1.3        1909      -9.3   \n",
       "\n",
       "      solar_rad  rainfall  snowfall  \n",
       "0           0.0       0.0       0.0  \n",
       "1           0.0       0.0       0.0  \n",
       "2           0.0       0.0       0.0  \n",
       "3           0.0       0.0       0.0  \n",
       "4           0.0       0.0       0.0  \n",
       "...         ...       ...       ...  \n",
       "8389        0.0       0.0       0.0  \n",
       "8390        0.0       0.0       0.0  \n",
       "8391        0.0       0.0       0.0  \n",
       "8392        0.0       0.0       0.0  \n",
       "8393        0.0       0.0       0.0  \n",
       "\n",
       "[8385 rows x 9 columns]"
      ]
     },
     "execution_count": 121,
     "metadata": {},
     "output_type": "execute_result"
    }
   ],
   "source": [
    "#We now need to keep just the rows where wind speed is less that 6 m/s\n",
    "data_raw2 = data_raw[data_raw[\"wind_speed\"]<6]\n",
    "data_raw2"
   ]
  },
  {
   "cell_type": "code",
   "execution_count": 122,
   "metadata": {},
   "outputs": [
    {
     "data": {
      "text/html": [
       "<div>\n",
       "<style scoped>\n",
       "    .dataframe tbody tr th:only-of-type {\n",
       "        vertical-align: middle;\n",
       "    }\n",
       "\n",
       "    .dataframe tbody tr th {\n",
       "        vertical-align: top;\n",
       "    }\n",
       "\n",
       "    .dataframe thead th {\n",
       "        text-align: right;\n",
       "    }\n",
       "</style>\n",
       "<table border=\"1\" class=\"dataframe\">\n",
       "  <thead>\n",
       "    <tr style=\"text-align: right;\">\n",
       "      <th></th>\n",
       "      <th>bikes_rented</th>\n",
       "      <th>temp</th>\n",
       "      <th>humidity</th>\n",
       "      <th>wind_speed</th>\n",
       "      <th>visibility</th>\n",
       "      <th>dew_temp</th>\n",
       "      <th>solar_rad</th>\n",
       "      <th>rainfall</th>\n",
       "      <th>snowfall</th>\n",
       "    </tr>\n",
       "  </thead>\n",
       "  <tbody>\n",
       "    <tr>\n",
       "      <th>0</th>\n",
       "      <td>254</td>\n",
       "      <td>-5.2</td>\n",
       "      <td>37</td>\n",
       "      <td>2.2</td>\n",
       "      <td>2000</td>\n",
       "      <td>-17.6</td>\n",
       "      <td>0.0</td>\n",
       "      <td>0.0</td>\n",
       "      <td>0.0</td>\n",
       "    </tr>\n",
       "    <tr>\n",
       "      <th>1</th>\n",
       "      <td>204</td>\n",
       "      <td>-5.5</td>\n",
       "      <td>38</td>\n",
       "      <td>0.8</td>\n",
       "      <td>2000</td>\n",
       "      <td>-17.6</td>\n",
       "      <td>0.0</td>\n",
       "      <td>0.0</td>\n",
       "      <td>0.0</td>\n",
       "    </tr>\n",
       "    <tr>\n",
       "      <th>2</th>\n",
       "      <td>173</td>\n",
       "      <td>-6.0</td>\n",
       "      <td>39</td>\n",
       "      <td>1.0</td>\n",
       "      <td>2000</td>\n",
       "      <td>-17.7</td>\n",
       "      <td>0.0</td>\n",
       "      <td>0.0</td>\n",
       "      <td>0.0</td>\n",
       "    </tr>\n",
       "    <tr>\n",
       "      <th>3</th>\n",
       "      <td>107</td>\n",
       "      <td>-6.2</td>\n",
       "      <td>40</td>\n",
       "      <td>0.9</td>\n",
       "      <td>2000</td>\n",
       "      <td>-17.6</td>\n",
       "      <td>0.0</td>\n",
       "      <td>0.0</td>\n",
       "      <td>0.0</td>\n",
       "    </tr>\n",
       "    <tr>\n",
       "      <th>4</th>\n",
       "      <td>78</td>\n",
       "      <td>-6.0</td>\n",
       "      <td>36</td>\n",
       "      <td>2.3</td>\n",
       "      <td>2000</td>\n",
       "      <td>-18.6</td>\n",
       "      <td>0.0</td>\n",
       "      <td>0.0</td>\n",
       "      <td>0.0</td>\n",
       "    </tr>\n",
       "    <tr>\n",
       "      <th>...</th>\n",
       "      <td>...</td>\n",
       "      <td>...</td>\n",
       "      <td>...</td>\n",
       "      <td>...</td>\n",
       "      <td>...</td>\n",
       "      <td>...</td>\n",
       "      <td>...</td>\n",
       "      <td>...</td>\n",
       "      <td>...</td>\n",
       "    </tr>\n",
       "    <tr>\n",
       "      <th>8380</th>\n",
       "      <td>1003</td>\n",
       "      <td>4.2</td>\n",
       "      <td>34</td>\n",
       "      <td>2.6</td>\n",
       "      <td>1894</td>\n",
       "      <td>-10.3</td>\n",
       "      <td>0.0</td>\n",
       "      <td>0.0</td>\n",
       "      <td>0.0</td>\n",
       "    </tr>\n",
       "    <tr>\n",
       "      <th>8381</th>\n",
       "      <td>764</td>\n",
       "      <td>3.4</td>\n",
       "      <td>37</td>\n",
       "      <td>2.3</td>\n",
       "      <td>2000</td>\n",
       "      <td>-9.9</td>\n",
       "      <td>0.0</td>\n",
       "      <td>0.0</td>\n",
       "      <td>0.0</td>\n",
       "    </tr>\n",
       "    <tr>\n",
       "      <th>8382</th>\n",
       "      <td>694</td>\n",
       "      <td>2.6</td>\n",
       "      <td>39</td>\n",
       "      <td>0.3</td>\n",
       "      <td>1968</td>\n",
       "      <td>-9.9</td>\n",
       "      <td>0.0</td>\n",
       "      <td>0.0</td>\n",
       "      <td>0.0</td>\n",
       "    </tr>\n",
       "    <tr>\n",
       "      <th>8383</th>\n",
       "      <td>712</td>\n",
       "      <td>2.1</td>\n",
       "      <td>41</td>\n",
       "      <td>1.0</td>\n",
       "      <td>1859</td>\n",
       "      <td>-9.8</td>\n",
       "      <td>0.0</td>\n",
       "      <td>0.0</td>\n",
       "      <td>0.0</td>\n",
       "    </tr>\n",
       "    <tr>\n",
       "      <th>8384</th>\n",
       "      <td>584</td>\n",
       "      <td>1.9</td>\n",
       "      <td>43</td>\n",
       "      <td>1.3</td>\n",
       "      <td>1909</td>\n",
       "      <td>-9.3</td>\n",
       "      <td>0.0</td>\n",
       "      <td>0.0</td>\n",
       "      <td>0.0</td>\n",
       "    </tr>\n",
       "  </tbody>\n",
       "</table>\n",
       "<p>8385 rows × 9 columns</p>\n",
       "</div>"
      ],
      "text/plain": [
       "      bikes_rented  temp  humidity  wind_speed  visibility  dew_temp  \\\n",
       "0              254  -5.2        37         2.2        2000     -17.6   \n",
       "1              204  -5.5        38         0.8        2000     -17.6   \n",
       "2              173  -6.0        39         1.0        2000     -17.7   \n",
       "3              107  -6.2        40         0.9        2000     -17.6   \n",
       "4               78  -6.0        36         2.3        2000     -18.6   \n",
       "...            ...   ...       ...         ...         ...       ...   \n",
       "8380          1003   4.2        34         2.6        1894     -10.3   \n",
       "8381           764   3.4        37         2.3        2000      -9.9   \n",
       "8382           694   2.6        39         0.3        1968      -9.9   \n",
       "8383           712   2.1        41         1.0        1859      -9.8   \n",
       "8384           584   1.9        43         1.3        1909      -9.3   \n",
       "\n",
       "      solar_rad  rainfall  snowfall  \n",
       "0           0.0       0.0       0.0  \n",
       "1           0.0       0.0       0.0  \n",
       "2           0.0       0.0       0.0  \n",
       "3           0.0       0.0       0.0  \n",
       "4           0.0       0.0       0.0  \n",
       "...         ...       ...       ...  \n",
       "8380        0.0       0.0       0.0  \n",
       "8381        0.0       0.0       0.0  \n",
       "8382        0.0       0.0       0.0  \n",
       "8383        0.0       0.0       0.0  \n",
       "8384        0.0       0.0       0.0  \n",
       "\n",
       "[8385 rows x 9 columns]"
      ]
     },
     "execution_count": 122,
     "metadata": {},
     "output_type": "execute_result"
    }
   ],
   "source": [
    "data_raw2.reset_index(drop=True)"
   ]
  },
  {
   "cell_type": "markdown",
   "metadata": {
    "tags": []
   },
   "source": [
    "# Compare the scale and distribution of bikes_rented and wind_speed"
   ]
  },
  {
   "cell_type": "code",
   "execution_count": 127,
   "metadata": {},
   "outputs": [
    {
     "data": {
      "image/png": "[encoded data removed]",
      "text/plain": [
       "<Figure size 2000x500 with 2 Axes>"
      ]
     },
     "metadata": {},
     "output_type": "display_data"
    }
   ],
   "source": [
    "#Now, We're going to compare the distro on bikes rented versus wind speed\n",
    "plt.figure(figsize=(20,5))\n",
    "plt.subplot(1,2,1)\n",
    "data_raw[\"bikes_rented\"].plot(kind=\"hist\")\n",
    "plt.title(\"Bicylces Rented Graph\")\n",
    "plt.subplot(1,2,2)\n",
    "data_raw2[\"wind_speed\"].plot(kind=\"hist\")\n",
    "plt.title(\"Wind Speed\")\n",
    "         \n",
    "plt.show()"
   ]
  },
  {
   "cell_type": "markdown",
   "metadata": {},
   "source": [
    "# Perform a Transformation on bikes_rented and wind_speed. From there compare the results"
   ]
  },
  {
   "cell_type": "code",
   "execution_count": 129,
   "metadata": {},
   "outputs": [],
   "source": [
    "#Reload Dataset we saved earlier\n",
    "DataSet2 = pd.read_csv(\"Second_DataSet.csv\")"
   ]
  },
  {
   "cell_type": "code",
   "execution_count": 136,
   "metadata": {},
   "outputs": [
    {
     "data": {
      "text/html": [
       "<div>\n",
       "<style scoped>\n",
       "    .dataframe tbody tr th:only-of-type {\n",
       "        vertical-align: middle;\n",
       "    }\n",
       "\n",
       "    .dataframe tbody tr th {\n",
       "        vertical-align: top;\n",
       "    }\n",
       "\n",
       "    .dataframe thead th {\n",
       "        text-align: right;\n",
       "    }\n",
       "</style>\n",
       "<table border=\"1\" class=\"dataframe\">\n",
       "  <thead>\n",
       "    <tr style=\"text-align: right;\">\n",
       "      <th></th>\n",
       "      <th>bikes_rented</th>\n",
       "      <th>temp</th>\n",
       "      <th>humidity</th>\n",
       "      <th>wind_speed</th>\n",
       "      <th>visibility</th>\n",
       "      <th>dew_temp</th>\n",
       "      <th>solar_rad</th>\n",
       "      <th>rainfall</th>\n",
       "      <th>snowfall</th>\n",
       "    </tr>\n",
       "  </thead>\n",
       "  <tbody>\n",
       "    <tr>\n",
       "      <th>0</th>\n",
       "      <td>254</td>\n",
       "      <td>-5.2</td>\n",
       "      <td>37</td>\n",
       "      <td>2.2</td>\n",
       "      <td>2000</td>\n",
       "      <td>-17.6</td>\n",
       "      <td>0.0</td>\n",
       "      <td>0.0</td>\n",
       "      <td>0.0</td>\n",
       "    </tr>\n",
       "    <tr>\n",
       "      <th>1</th>\n",
       "      <td>204</td>\n",
       "      <td>-5.5</td>\n",
       "      <td>38</td>\n",
       "      <td>0.8</td>\n",
       "      <td>2000</td>\n",
       "      <td>-17.6</td>\n",
       "      <td>0.0</td>\n",
       "      <td>0.0</td>\n",
       "      <td>0.0</td>\n",
       "    </tr>\n",
       "    <tr>\n",
       "      <th>2</th>\n",
       "      <td>173</td>\n",
       "      <td>-6.0</td>\n",
       "      <td>39</td>\n",
       "      <td>1.0</td>\n",
       "      <td>2000</td>\n",
       "      <td>-17.7</td>\n",
       "      <td>0.0</td>\n",
       "      <td>0.0</td>\n",
       "      <td>0.0</td>\n",
       "    </tr>\n",
       "    <tr>\n",
       "      <th>3</th>\n",
       "      <td>107</td>\n",
       "      <td>-6.2</td>\n",
       "      <td>40</td>\n",
       "      <td>0.9</td>\n",
       "      <td>2000</td>\n",
       "      <td>-17.6</td>\n",
       "      <td>0.0</td>\n",
       "      <td>0.0</td>\n",
       "      <td>0.0</td>\n",
       "    </tr>\n",
       "    <tr>\n",
       "      <th>4</th>\n",
       "      <td>78</td>\n",
       "      <td>-6.0</td>\n",
       "      <td>36</td>\n",
       "      <td>2.3</td>\n",
       "      <td>2000</td>\n",
       "      <td>-18.6</td>\n",
       "      <td>0.0</td>\n",
       "      <td>0.0</td>\n",
       "      <td>0.0</td>\n",
       "    </tr>\n",
       "  </tbody>\n",
       "</table>\n",
       "</div>"
      ],
      "text/plain": [
       "   bikes_rented  temp  humidity  wind_speed  visibility  dew_temp  solar_rad  \\\n",
       "0           254  -5.2        37         2.2        2000     -17.6        0.0   \n",
       "1           204  -5.5        38         0.8        2000     -17.6        0.0   \n",
       "2           173  -6.0        39         1.0        2000     -17.7        0.0   \n",
       "3           107  -6.2        40         0.9        2000     -17.6        0.0   \n",
       "4            78  -6.0        36         2.3        2000     -18.6        0.0   \n",
       "\n",
       "   rainfall  snowfall  \n",
       "0       0.0       0.0  \n",
       "1       0.0       0.0  \n",
       "2       0.0       0.0  \n",
       "3       0.0       0.0  \n",
       "4       0.0       0.0  "
      ]
     },
     "execution_count": 136,
     "metadata": {},
     "output_type": "execute_result"
    }
   ],
   "source": [
    "#Confirm first few rows of loaded dataset\n",
    "DataSet2.head()"
   ]
  },
  {
   "cell_type": "code",
   "execution_count": 144,
   "metadata": {},
   "outputs": [
    {
     "data": {
      "text/html": [
       "<div>\n",
       "<style scoped>\n",
       "    .dataframe tbody tr th:only-of-type {\n",
       "        vertical-align: middle;\n",
       "    }\n",
       "\n",
       "    .dataframe tbody tr th {\n",
       "        vertical-align: top;\n",
       "    }\n",
       "\n",
       "    .dataframe thead th {\n",
       "        text-align: right;\n",
       "    }\n",
       "</style>\n",
       "<table border=\"1\" class=\"dataframe\">\n",
       "  <thead>\n",
       "    <tr style=\"text-align: right;\">\n",
       "      <th></th>\n",
       "      <th>bikes_rented</th>\n",
       "      <th>temp</th>\n",
       "      <th>humidity</th>\n",
       "      <th>wind_speed</th>\n",
       "      <th>visibility</th>\n",
       "      <th>dew_temp</th>\n",
       "      <th>solar_rad</th>\n",
       "      <th>rainfall</th>\n",
       "      <th>snowfall</th>\n",
       "      <th>log_wind_speed</th>\n",
       "    </tr>\n",
       "  </thead>\n",
       "  <tbody>\n",
       "    <tr>\n",
       "      <th>0</th>\n",
       "      <td>254</td>\n",
       "      <td>-5.2</td>\n",
       "      <td>37</td>\n",
       "      <td>2.2</td>\n",
       "      <td>2000</td>\n",
       "      <td>-17.6</td>\n",
       "      <td>0.0</td>\n",
       "      <td>0.0</td>\n",
       "      <td>0.0</td>\n",
       "      <td>0.788457</td>\n",
       "    </tr>\n",
       "    <tr>\n",
       "      <th>1</th>\n",
       "      <td>204</td>\n",
       "      <td>-5.5</td>\n",
       "      <td>38</td>\n",
       "      <td>0.8</td>\n",
       "      <td>2000</td>\n",
       "      <td>-17.6</td>\n",
       "      <td>0.0</td>\n",
       "      <td>0.0</td>\n",
       "      <td>0.0</td>\n",
       "      <td>-0.223144</td>\n",
       "    </tr>\n",
       "    <tr>\n",
       "      <th>2</th>\n",
       "      <td>173</td>\n",
       "      <td>-6.0</td>\n",
       "      <td>39</td>\n",
       "      <td>1.0</td>\n",
       "      <td>2000</td>\n",
       "      <td>-17.7</td>\n",
       "      <td>0.0</td>\n",
       "      <td>0.0</td>\n",
       "      <td>0.0</td>\n",
       "      <td>0.000000</td>\n",
       "    </tr>\n",
       "    <tr>\n",
       "      <th>3</th>\n",
       "      <td>107</td>\n",
       "      <td>-6.2</td>\n",
       "      <td>40</td>\n",
       "      <td>0.9</td>\n",
       "      <td>2000</td>\n",
       "      <td>-17.6</td>\n",
       "      <td>0.0</td>\n",
       "      <td>0.0</td>\n",
       "      <td>0.0</td>\n",
       "      <td>-0.105361</td>\n",
       "    </tr>\n",
       "    <tr>\n",
       "      <th>4</th>\n",
       "      <td>78</td>\n",
       "      <td>-6.0</td>\n",
       "      <td>36</td>\n",
       "      <td>2.3</td>\n",
       "      <td>2000</td>\n",
       "      <td>-18.6</td>\n",
       "      <td>0.0</td>\n",
       "      <td>0.0</td>\n",
       "      <td>0.0</td>\n",
       "      <td>0.832909</td>\n",
       "    </tr>\n",
       "    <tr>\n",
       "      <th>...</th>\n",
       "      <td>...</td>\n",
       "      <td>...</td>\n",
       "      <td>...</td>\n",
       "      <td>...</td>\n",
       "      <td>...</td>\n",
       "      <td>...</td>\n",
       "      <td>...</td>\n",
       "      <td>...</td>\n",
       "      <td>...</td>\n",
       "      <td>...</td>\n",
       "    </tr>\n",
       "    <tr>\n",
       "      <th>8380</th>\n",
       "      <td>1003</td>\n",
       "      <td>4.2</td>\n",
       "      <td>34</td>\n",
       "      <td>2.6</td>\n",
       "      <td>1894</td>\n",
       "      <td>-10.3</td>\n",
       "      <td>0.0</td>\n",
       "      <td>0.0</td>\n",
       "      <td>0.0</td>\n",
       "      <td>0.955511</td>\n",
       "    </tr>\n",
       "    <tr>\n",
       "      <th>8381</th>\n",
       "      <td>764</td>\n",
       "      <td>3.4</td>\n",
       "      <td>37</td>\n",
       "      <td>2.3</td>\n",
       "      <td>2000</td>\n",
       "      <td>-9.9</td>\n",
       "      <td>0.0</td>\n",
       "      <td>0.0</td>\n",
       "      <td>0.0</td>\n",
       "      <td>0.832909</td>\n",
       "    </tr>\n",
       "    <tr>\n",
       "      <th>8382</th>\n",
       "      <td>694</td>\n",
       "      <td>2.6</td>\n",
       "      <td>39</td>\n",
       "      <td>0.3</td>\n",
       "      <td>1968</td>\n",
       "      <td>-9.9</td>\n",
       "      <td>0.0</td>\n",
       "      <td>0.0</td>\n",
       "      <td>0.0</td>\n",
       "      <td>-1.203973</td>\n",
       "    </tr>\n",
       "    <tr>\n",
       "      <th>8383</th>\n",
       "      <td>712</td>\n",
       "      <td>2.1</td>\n",
       "      <td>41</td>\n",
       "      <td>1.0</td>\n",
       "      <td>1859</td>\n",
       "      <td>-9.8</td>\n",
       "      <td>0.0</td>\n",
       "      <td>0.0</td>\n",
       "      <td>0.0</td>\n",
       "      <td>0.000000</td>\n",
       "    </tr>\n",
       "    <tr>\n",
       "      <th>8384</th>\n",
       "      <td>584</td>\n",
       "      <td>1.9</td>\n",
       "      <td>43</td>\n",
       "      <td>1.3</td>\n",
       "      <td>1909</td>\n",
       "      <td>-9.3</td>\n",
       "      <td>0.0</td>\n",
       "      <td>0.0</td>\n",
       "      <td>0.0</td>\n",
       "      <td>0.262364</td>\n",
       "    </tr>\n",
       "  </tbody>\n",
       "</table>\n",
       "<p>8385 rows × 10 columns</p>\n",
       "</div>"
      ],
      "text/plain": [
       "      bikes_rented  temp  humidity  wind_speed  visibility  dew_temp  \\\n",
       "0              254  -5.2        37         2.2        2000     -17.6   \n",
       "1              204  -5.5        38         0.8        2000     -17.6   \n",
       "2              173  -6.0        39         1.0        2000     -17.7   \n",
       "3              107  -6.2        40         0.9        2000     -17.6   \n",
       "4               78  -6.0        36         2.3        2000     -18.6   \n",
       "...            ...   ...       ...         ...         ...       ...   \n",
       "8380          1003   4.2        34         2.6        1894     -10.3   \n",
       "8381           764   3.4        37         2.3        2000      -9.9   \n",
       "8382           694   2.6        39         0.3        1968      -9.9   \n",
       "8383           712   2.1        41         1.0        1859      -9.8   \n",
       "8384           584   1.9        43         1.3        1909      -9.3   \n",
       "\n",
       "      solar_rad  rainfall  snowfall  log_wind_speed  \n",
       "0           0.0       0.0       0.0        0.788457  \n",
       "1           0.0       0.0       0.0       -0.223144  \n",
       "2           0.0       0.0       0.0        0.000000  \n",
       "3           0.0       0.0       0.0       -0.105361  \n",
       "4           0.0       0.0       0.0        0.832909  \n",
       "...         ...       ...       ...             ...  \n",
       "8380        0.0       0.0       0.0        0.955511  \n",
       "8381        0.0       0.0       0.0        0.832909  \n",
       "8382        0.0       0.0       0.0       -1.203973  \n",
       "8383        0.0       0.0       0.0        0.000000  \n",
       "8384        0.0       0.0       0.0        0.262364  \n",
       "\n",
       "[8385 rows x 10 columns]"
      ]
     },
     "execution_count": 144,
     "metadata": {},
     "output_type": "execute_result"
    }
   ],
   "source": [
    "DataSet2[\"log_wind_speed\"] = np.log(DataSet2[\"wind_speed\"])\n",
    "DataSet2"
   ]
  },
  {
   "cell_type": "code",
   "execution_count": 150,
   "metadata": {},
   "outputs": [
    {
     "data": {
      "text/html": [
       "<div>\n",
       "<style scoped>\n",
       "    .dataframe tbody tr th:only-of-type {\n",
       "        vertical-align: middle;\n",
       "    }\n",
       "\n",
       "    .dataframe tbody tr th {\n",
       "        vertical-align: top;\n",
       "    }\n",
       "\n",
       "    .dataframe thead th {\n",
       "        text-align: right;\n",
       "    }\n",
       "</style>\n",
       "<table border=\"1\" class=\"dataframe\">\n",
       "  <thead>\n",
       "    <tr style=\"text-align: right;\">\n",
       "      <th></th>\n",
       "      <th>bikes_rented</th>\n",
       "      <th>temp</th>\n",
       "      <th>humidity</th>\n",
       "      <th>wind_speed</th>\n",
       "      <th>visibility</th>\n",
       "      <th>dew_temp</th>\n",
       "      <th>solar_rad</th>\n",
       "      <th>rainfall</th>\n",
       "      <th>snowfall</th>\n",
       "      <th>log_wind_speed</th>\n",
       "      <th>log_bikes_rented</th>\n",
       "    </tr>\n",
       "  </thead>\n",
       "  <tbody>\n",
       "    <tr>\n",
       "      <th>0</th>\n",
       "      <td>254</td>\n",
       "      <td>-5.2</td>\n",
       "      <td>37</td>\n",
       "      <td>2.2</td>\n",
       "      <td>2000</td>\n",
       "      <td>-17.6</td>\n",
       "      <td>0.0</td>\n",
       "      <td>0.0</td>\n",
       "      <td>0.0</td>\n",
       "      <td>0.788457</td>\n",
       "      <td>5.537334</td>\n",
       "    </tr>\n",
       "    <tr>\n",
       "      <th>1</th>\n",
       "      <td>204</td>\n",
       "      <td>-5.5</td>\n",
       "      <td>38</td>\n",
       "      <td>0.8</td>\n",
       "      <td>2000</td>\n",
       "      <td>-17.6</td>\n",
       "      <td>0.0</td>\n",
       "      <td>0.0</td>\n",
       "      <td>0.0</td>\n",
       "      <td>-0.223144</td>\n",
       "      <td>5.318120</td>\n",
       "    </tr>\n",
       "    <tr>\n",
       "      <th>2</th>\n",
       "      <td>173</td>\n",
       "      <td>-6.0</td>\n",
       "      <td>39</td>\n",
       "      <td>1.0</td>\n",
       "      <td>2000</td>\n",
       "      <td>-17.7</td>\n",
       "      <td>0.0</td>\n",
       "      <td>0.0</td>\n",
       "      <td>0.0</td>\n",
       "      <td>0.000000</td>\n",
       "      <td>5.153292</td>\n",
       "    </tr>\n",
       "    <tr>\n",
       "      <th>3</th>\n",
       "      <td>107</td>\n",
       "      <td>-6.2</td>\n",
       "      <td>40</td>\n",
       "      <td>0.9</td>\n",
       "      <td>2000</td>\n",
       "      <td>-17.6</td>\n",
       "      <td>0.0</td>\n",
       "      <td>0.0</td>\n",
       "      <td>0.0</td>\n",
       "      <td>-0.105361</td>\n",
       "      <td>4.672829</td>\n",
       "    </tr>\n",
       "    <tr>\n",
       "      <th>4</th>\n",
       "      <td>78</td>\n",
       "      <td>-6.0</td>\n",
       "      <td>36</td>\n",
       "      <td>2.3</td>\n",
       "      <td>2000</td>\n",
       "      <td>-18.6</td>\n",
       "      <td>0.0</td>\n",
       "      <td>0.0</td>\n",
       "      <td>0.0</td>\n",
       "      <td>0.832909</td>\n",
       "      <td>4.356709</td>\n",
       "    </tr>\n",
       "    <tr>\n",
       "      <th>...</th>\n",
       "      <td>...</td>\n",
       "      <td>...</td>\n",
       "      <td>...</td>\n",
       "      <td>...</td>\n",
       "      <td>...</td>\n",
       "      <td>...</td>\n",
       "      <td>...</td>\n",
       "      <td>...</td>\n",
       "      <td>...</td>\n",
       "      <td>...</td>\n",
       "      <td>...</td>\n",
       "    </tr>\n",
       "    <tr>\n",
       "      <th>8380</th>\n",
       "      <td>1003</td>\n",
       "      <td>4.2</td>\n",
       "      <td>34</td>\n",
       "      <td>2.6</td>\n",
       "      <td>1894</td>\n",
       "      <td>-10.3</td>\n",
       "      <td>0.0</td>\n",
       "      <td>0.0</td>\n",
       "      <td>0.0</td>\n",
       "      <td>0.955511</td>\n",
       "      <td>6.910751</td>\n",
       "    </tr>\n",
       "    <tr>\n",
       "      <th>8381</th>\n",
       "      <td>764</td>\n",
       "      <td>3.4</td>\n",
       "      <td>37</td>\n",
       "      <td>2.3</td>\n",
       "      <td>2000</td>\n",
       "      <td>-9.9</td>\n",
       "      <td>0.0</td>\n",
       "      <td>0.0</td>\n",
       "      <td>0.0</td>\n",
       "      <td>0.832909</td>\n",
       "      <td>6.638568</td>\n",
       "    </tr>\n",
       "    <tr>\n",
       "      <th>8382</th>\n",
       "      <td>694</td>\n",
       "      <td>2.6</td>\n",
       "      <td>39</td>\n",
       "      <td>0.3</td>\n",
       "      <td>1968</td>\n",
       "      <td>-9.9</td>\n",
       "      <td>0.0</td>\n",
       "      <td>0.0</td>\n",
       "      <td>0.0</td>\n",
       "      <td>-1.203973</td>\n",
       "      <td>6.542472</td>\n",
       "    </tr>\n",
       "    <tr>\n",
       "      <th>8383</th>\n",
       "      <td>712</td>\n",
       "      <td>2.1</td>\n",
       "      <td>41</td>\n",
       "      <td>1.0</td>\n",
       "      <td>1859</td>\n",
       "      <td>-9.8</td>\n",
       "      <td>0.0</td>\n",
       "      <td>0.0</td>\n",
       "      <td>0.0</td>\n",
       "      <td>0.000000</td>\n",
       "      <td>6.568078</td>\n",
       "    </tr>\n",
       "    <tr>\n",
       "      <th>8384</th>\n",
       "      <td>584</td>\n",
       "      <td>1.9</td>\n",
       "      <td>43</td>\n",
       "      <td>1.3</td>\n",
       "      <td>1909</td>\n",
       "      <td>-9.3</td>\n",
       "      <td>0.0</td>\n",
       "      <td>0.0</td>\n",
       "      <td>0.0</td>\n",
       "      <td>0.262364</td>\n",
       "      <td>6.369901</td>\n",
       "    </tr>\n",
       "  </tbody>\n",
       "</table>\n",
       "<p>8385 rows × 11 columns</p>\n",
       "</div>"
      ],
      "text/plain": [
       "      bikes_rented  temp  humidity  wind_speed  visibility  dew_temp  \\\n",
       "0              254  -5.2        37         2.2        2000     -17.6   \n",
       "1              204  -5.5        38         0.8        2000     -17.6   \n",
       "2              173  -6.0        39         1.0        2000     -17.7   \n",
       "3              107  -6.2        40         0.9        2000     -17.6   \n",
       "4               78  -6.0        36         2.3        2000     -18.6   \n",
       "...            ...   ...       ...         ...         ...       ...   \n",
       "8380          1003   4.2        34         2.6        1894     -10.3   \n",
       "8381           764   3.4        37         2.3        2000      -9.9   \n",
       "8382           694   2.6        39         0.3        1968      -9.9   \n",
       "8383           712   2.1        41         1.0        1859      -9.8   \n",
       "8384           584   1.9        43         1.3        1909      -9.3   \n",
       "\n",
       "      solar_rad  rainfall  snowfall  log_wind_speed  log_bikes_rented  \n",
       "0           0.0       0.0       0.0        0.788457          5.537334  \n",
       "1           0.0       0.0       0.0       -0.223144          5.318120  \n",
       "2           0.0       0.0       0.0        0.000000          5.153292  \n",
       "3           0.0       0.0       0.0       -0.105361          4.672829  \n",
       "4           0.0       0.0       0.0        0.832909          4.356709  \n",
       "...         ...       ...       ...             ...               ...  \n",
       "8380        0.0       0.0       0.0        0.955511          6.910751  \n",
       "8381        0.0       0.0       0.0        0.832909          6.638568  \n",
       "8382        0.0       0.0       0.0       -1.203973          6.542472  \n",
       "8383        0.0       0.0       0.0        0.000000          6.568078  \n",
       "8384        0.0       0.0       0.0        0.262364          6.369901  \n",
       "\n",
       "[8385 rows x 11 columns]"
      ]
     },
     "execution_count": 150,
     "metadata": {},
     "output_type": "execute_result"
    }
   ],
   "source": [
    "DataSet2[\"log_bikes_rented\"] = np.log(DataSet2[\"bikes_rented\"])\n",
    "DataSet2"
   ]
  },
  {
   "cell_type": "code",
   "execution_count": 154,
   "metadata": {},
   "outputs": [
    {
     "data": {
      "text/plain": [
       "(array([[254. ,  -5.2,  37. , ..., -17.6,   0. ,   0. ],\n",
       "        [204. ,  -5.5,  38. , ..., -17.6,   0. ,   0. ],\n",
       "        [173. ,  -6. ,  39. , ..., -17.7,   0. ,   0. ],\n",
       "        ...,\n",
       "        [694. ,   2.6,  39. , ...,  -9.9,   0. ,   0. ],\n",
       "        [712. ,   2.1,  41. , ...,  -9.8,   0. ,   0. ],\n",
       "        [584. ,   1.9,  43. , ...,  -9.3,   0. ,   0. ]]),\n",
       " array([0., 0., 0., ..., 0., 0., 0.]))"
      ]
     },
     "execution_count": 154,
     "metadata": {},
     "output_type": "execute_result"
    }
   ],
   "source": [
    "x = DataSet2.iloc[:,0:8]\n",
    "y = DataSet2.iloc[:,8]\n",
    "# Prinout values from X & Y\n",
    "x.values, y.values"
   ]
  },
  {
   "cell_type": "code",
   "execution_count": 157,
   "metadata": {},
   "outputs": [
    {
     "data": {
      "text/plain": [
       "((6708, 8), (6708,))"
      ]
     },
     "execution_count": 157,
     "metadata": {},
     "output_type": "execute_result"
    }
   ],
   "source": [
    "#Refine the data\n",
    "x_train, x_test, y_train, y_test = train_test_split(x,y,test_size=0.2, random_state=0)\n",
    "#Shape the data\n",
    "x_train.shape, y_train.shape"
   ]
  },
  {
   "cell_type": "code",
   "execution_count": 158,
   "metadata": {},
   "outputs": [
    {
     "data": {
      "text/html": [
       "<div>\n",
       "<style scoped>\n",
       "    .dataframe tbody tr th:only-of-type {\n",
       "        vertical-align: middle;\n",
       "    }\n",
       "\n",
       "    .dataframe tbody tr th {\n",
       "        vertical-align: top;\n",
       "    }\n",
       "\n",
       "    .dataframe thead th {\n",
       "        text-align: right;\n",
       "    }\n",
       "</style>\n",
       "<table border=\"1\" class=\"dataframe\">\n",
       "  <thead>\n",
       "    <tr style=\"text-align: right;\">\n",
       "      <th></th>\n",
       "      <th>bikes_rented</th>\n",
       "      <th>temp</th>\n",
       "      <th>humidity</th>\n",
       "      <th>wind_speed</th>\n",
       "      <th>visibility</th>\n",
       "      <th>dew_temp</th>\n",
       "      <th>solar_rad</th>\n",
       "      <th>rainfall</th>\n",
       "    </tr>\n",
       "  </thead>\n",
       "  <tbody>\n",
       "    <tr>\n",
       "      <th>3357</th>\n",
       "      <td>155</td>\n",
       "      <td>14.6</td>\n",
       "      <td>42</td>\n",
       "      <td>0.5</td>\n",
       "      <td>2000</td>\n",
       "      <td>1.8</td>\n",
       "      <td>0.00</td>\n",
       "      <td>0.0</td>\n",
       "    </tr>\n",
       "    <tr>\n",
       "      <th>5147</th>\n",
       "      <td>760</td>\n",
       "      <td>20.7</td>\n",
       "      <td>58</td>\n",
       "      <td>1.5</td>\n",
       "      <td>2000</td>\n",
       "      <td>12.1</td>\n",
       "      <td>0.00</td>\n",
       "      <td>0.0</td>\n",
       "    </tr>\n",
       "    <tr>\n",
       "      <th>1433</th>\n",
       "      <td>59</td>\n",
       "      <td>-1.7</td>\n",
       "      <td>91</td>\n",
       "      <td>1.1</td>\n",
       "      <td>167</td>\n",
       "      <td>-2.9</td>\n",
       "      <td>0.00</td>\n",
       "      <td>0.0</td>\n",
       "    </tr>\n",
       "    <tr>\n",
       "      <th>4258</th>\n",
       "      <td>2650</td>\n",
       "      <td>21.2</td>\n",
       "      <td>52</td>\n",
       "      <td>3.6</td>\n",
       "      <td>1856</td>\n",
       "      <td>10.9</td>\n",
       "      <td>0.55</td>\n",
       "      <td>0.0</td>\n",
       "    </tr>\n",
       "    <tr>\n",
       "      <th>751</th>\n",
       "      <td>344</td>\n",
       "      <td>-3.2</td>\n",
       "      <td>69</td>\n",
       "      <td>0.5</td>\n",
       "      <td>1249</td>\n",
       "      <td>-8.0</td>\n",
       "      <td>0.00</td>\n",
       "      <td>0.0</td>\n",
       "    </tr>\n",
       "    <tr>\n",
       "      <th>...</th>\n",
       "      <td>...</td>\n",
       "      <td>...</td>\n",
       "      <td>...</td>\n",
       "      <td>...</td>\n",
       "      <td>...</td>\n",
       "      <td>...</td>\n",
       "      <td>...</td>\n",
       "      <td>...</td>\n",
       "    </tr>\n",
       "    <tr>\n",
       "      <th>4373</th>\n",
       "      <td>1148</td>\n",
       "      <td>26.5</td>\n",
       "      <td>43</td>\n",
       "      <td>3.9</td>\n",
       "      <td>1671</td>\n",
       "      <td>12.8</td>\n",
       "      <td>2.36</td>\n",
       "      <td>0.0</td>\n",
       "    </tr>\n",
       "    <tr>\n",
       "      <th>7891</th>\n",
       "      <td>754</td>\n",
       "      <td>11.3</td>\n",
       "      <td>77</td>\n",
       "      <td>0.9</td>\n",
       "      <td>433</td>\n",
       "      <td>7.4</td>\n",
       "      <td>0.00</td>\n",
       "      <td>0.0</td>\n",
       "    </tr>\n",
       "    <tr>\n",
       "      <th>4859</th>\n",
       "      <td>1801</td>\n",
       "      <td>23.9</td>\n",
       "      <td>72</td>\n",
       "      <td>0.8</td>\n",
       "      <td>1098</td>\n",
       "      <td>18.5</td>\n",
       "      <td>0.00</td>\n",
       "      <td>0.0</td>\n",
       "    </tr>\n",
       "    <tr>\n",
       "      <th>3264</th>\n",
       "      <td>987</td>\n",
       "      <td>11.2</td>\n",
       "      <td>31</td>\n",
       "      <td>1.7</td>\n",
       "      <td>1299</td>\n",
       "      <td>-5.3</td>\n",
       "      <td>1.59</td>\n",
       "      <td>0.0</td>\n",
       "    </tr>\n",
       "    <tr>\n",
       "      <th>2732</th>\n",
       "      <td>185</td>\n",
       "      <td>6.3</td>\n",
       "      <td>87</td>\n",
       "      <td>1.8</td>\n",
       "      <td>153</td>\n",
       "      <td>4.2</td>\n",
       "      <td>0.00</td>\n",
       "      <td>0.0</td>\n",
       "    </tr>\n",
       "  </tbody>\n",
       "</table>\n",
       "<p>6708 rows × 8 columns</p>\n",
       "</div>"
      ],
      "text/plain": [
       "      bikes_rented  temp  humidity  wind_speed  visibility  dew_temp  \\\n",
       "3357           155  14.6        42         0.5        2000       1.8   \n",
       "5147           760  20.7        58         1.5        2000      12.1   \n",
       "1433            59  -1.7        91         1.1         167      -2.9   \n",
       "4258          2650  21.2        52         3.6        1856      10.9   \n",
       "751            344  -3.2        69         0.5        1249      -8.0   \n",
       "...            ...   ...       ...         ...         ...       ...   \n",
       "4373          1148  26.5        43         3.9        1671      12.8   \n",
       "7891           754  11.3        77         0.9         433       7.4   \n",
       "4859          1801  23.9        72         0.8        1098      18.5   \n",
       "3264           987  11.2        31         1.7        1299      -5.3   \n",
       "2732           185   6.3        87         1.8         153       4.2   \n",
       "\n",
       "      solar_rad  rainfall  \n",
       "3357       0.00       0.0  \n",
       "5147       0.00       0.0  \n",
       "1433       0.00       0.0  \n",
       "4258       0.55       0.0  \n",
       "751        0.00       0.0  \n",
       "...         ...       ...  \n",
       "4373       2.36       0.0  \n",
       "7891       0.00       0.0  \n",
       "4859       0.00       0.0  \n",
       "3264       1.59       0.0  \n",
       "2732       0.00       0.0  \n",
       "\n",
       "[6708 rows x 8 columns]"
      ]
     },
     "execution_count": 158,
     "metadata": {},
     "output_type": "execute_result"
    }
   ],
   "source": [
    "#view the data in x_train\n",
    "x_train"
   ]
  },
  {
   "cell_type": "markdown",
   "metadata": {},
   "source": [
    "# Build and test a linear regression model - Round 2"
   ]
  },
  {
   "cell_type": "code",
   "execution_count": 172,
   "metadata": {},
   "outputs": [
    {
     "data": {
      "text/html": [
       "<style>#sk-container-id-6 {color: black;background-color: white;}#sk-container-id-6 pre{padding: 0;}#sk-container-id-6 div.sk-toggleable {background-color: white;}#sk-container-id-6 label.sk-toggleable__label {cursor: pointer;display: block;width: 100%;margin-bottom: 0;padding: 0.3em;box-sizing: border-box;text-align: center;}#sk-container-id-6 label.sk-toggleable__label-arrow:before {content: \"▸\";float: left;margin-right: 0.25em;color: #696969;}#sk-container-id-6 label.sk-toggleable__label-arrow:hover:before {color: black;}#sk-container-id-6 div.sk-estimator:hover label.sk-toggleable__label-arrow:before {color: black;}#sk-container-id-6 div.sk-toggleable__content {max-height: 0;max-width: 0;overflow: hidden;text-align: left;background-color: #f0f8ff;}#sk-container-id-6 div.sk-toggleable__content pre {margin: 0.2em;color: black;border-radius: 0.25em;background-color: #f0f8ff;}#sk-container-id-6 input.sk-toggleable__control:checked~div.sk-toggleable__content {max-height: 200px;max-width: 100%;overflow: auto;}#sk-container-id-6 input.sk-toggleable__control:checked~label.sk-toggleable__label-arrow:before {content: \"▾\";}#sk-container-id-6 div.sk-estimator input.sk-toggleable__control:checked~label.sk-toggleable__label {background-color: #d4ebff;}#sk-container-id-6 div.sk-label input.sk-toggleable__control:checked~label.sk-toggleable__label {background-color: #d4ebff;}#sk-container-id-6 input.sk-hidden--visually {border: 0;clip: rect(1px 1px 1px 1px);clip: rect(1px, 1px, 1px, 1px);height: 1px;margin: -1px;overflow: hidden;padding: 0;position: absolute;width: 1px;}#sk-container-id-6 div.sk-estimator {font-family: monospace;background-color: #f0f8ff;border: 1px dotted black;border-radius: 0.25em;box-sizing: border-box;margin-bottom: 0.5em;}#sk-container-id-6 div.sk-estimator:hover {background-color: #d4ebff;}#sk-container-id-6 div.sk-parallel-item::after {content: \"\";width: 100%;border-bottom: 1px solid gray;flex-grow: 1;}#sk-container-id-6 div.sk-label:hover label.sk-toggleable__label {background-color: #d4ebff;}#sk-container-id-6 div.sk-serial::before {content: \"\";position: absolute;border-left: 1px solid gray;box-sizing: border-box;top: 0;bottom: 0;left: 50%;z-index: 0;}#sk-container-id-6 div.sk-serial {display: flex;flex-direction: column;align-items: center;background-color: white;padding-right: 0.2em;padding-left: 0.2em;position: relative;}#sk-container-id-6 div.sk-item {position: relative;z-index: 1;}#sk-container-id-6 div.sk-parallel {display: flex;align-items: stretch;justify-content: center;background-color: white;position: relative;}#sk-container-id-6 div.sk-item::before, #sk-container-id-6 div.sk-parallel-item::before {content: \"\";position: absolute;border-left: 1px solid gray;box-sizing: border-box;top: 0;bottom: 0;left: 50%;z-index: -1;}#sk-container-id-6 div.sk-parallel-item {display: flex;flex-direction: column;z-index: 1;position: relative;background-color: white;}#sk-container-id-6 div.sk-parallel-item:first-child::after {align-self: flex-end;width: 50%;}#sk-container-id-6 div.sk-parallel-item:last-child::after {align-self: flex-start;width: 50%;}#sk-container-id-6 div.sk-parallel-item:only-child::after {width: 0;}#sk-container-id-6 div.sk-dashed-wrapped {border: 1px dashed gray;margin: 0 0.4em 0.5em 0.4em;box-sizing: border-box;padding-bottom: 0.4em;background-color: white;}#sk-container-id-6 div.sk-label label {font-family: monospace;font-weight: bold;display: inline-block;line-height: 1.2em;}#sk-container-id-6 div.sk-label-container {text-align: center;}#sk-container-id-6 div.sk-container {/* jupyter's `normalize.less` sets `[hidden] { display: none; }` but bootstrap.min.css set `[hidden] { display: none !important; }` so we also need the `!important` here to be able to override the default hidden behavior on the sphinx rendered scikit-learn.org. See: https://github.com/scikit-learn/scikit-learn/issues/21755 */display: inline-block !important;position: relative;}#sk-container-id-6 div.sk-text-repr-fallback {display: none;}</style><div id=\"sk-container-id-6\" class=\"sk-top-container\"><div class=\"sk-text-repr-fallback\"><pre>LinearRegression()</pre><b>In a Jupyter environment, please rerun this cell to show the HTML representation or trust the notebook. <br />On GitHub, the HTML representation is unable to render, please try loading this page with nbviewer.org.</b></div><div class=\"sk-container\" hidden><div class=\"sk-item\"><div class=\"sk-estimator sk-toggleable\"><input class=\"sk-toggleable__control sk-hidden--visually\" id=\"sk-estimator-id-6\" type=\"checkbox\" checked><label for=\"sk-estimator-id-6\" class=\"sk-toggleable__label sk-toggleable__label-arrow\">LinearRegression</label><div class=\"sk-toggleable__content\"><pre>LinearRegression()</pre></div></div></div></div></div>"
      ],
      "text/plain": [
       "LinearRegression()"
      ]
     },
     "execution_count": 172,
     "metadata": {},
     "output_type": "execute_result"
    }
   ],
   "source": [
    "from sklearn.linear_model import LinearRegression\n",
    "\n",
    "# Create a linear regression model and fit it using the training data\n",
    "LinReg = LinearRegression()\n",
    "\n",
    "LinReg.fit(x_train, y_train)\n",
    "LinearRegression()\n"
   ]
  },
  {
   "cell_type": "markdown",
   "metadata": {},
   "source": [
    "# Compare the first ten predictions to actual values"
   ]
  },
  {
   "cell_type": "code",
   "execution_count": null,
   "metadata": {},
   "outputs": [],
   "source": []
  },
  {
   "cell_type": "code",
   "execution_count": 173,
   "metadata": {},
   "outputs": [
    {
     "data": {
      "text/plain": [
       "array([ 857.323119  ,  751.8098849 ,  655.08069967, 1226.26561471,\n",
       "       1590.38483999,  285.88722901, 1454.77870554,  711.79165875,\n",
       "        325.36163583,  598.10222996])"
      ]
     },
     "execution_count": 173,
     "metadata": {},
     "output_type": "execute_result"
    }
   ],
   "source": [
    "# LinReg_PRD is the predicted prices that will be produced by testing\n",
    "LinReg = LinReg.predict(x_test)\n",
    "\n",
    "#view the first ten values\n",
    "LinReg_pred[:10]"
   ]
  },
  {
   "cell_type": "code",
   "execution_count": 175,
   "metadata": {},
   "outputs": [
    {
     "data": {
      "text/plain": [
       "7351    0.0\n",
       "3608    0.0\n",
       "8026    0.0\n",
       "4382    0.0\n",
       "244     0.0\n",
       "8349    0.0\n",
       "2730    0.0\n",
       "8202    0.0\n",
       "2812    0.0\n",
       "7918    0.0\n",
       "Name: snowfall, dtype: float64"
      ]
     },
     "execution_count": 175,
     "metadata": {},
     "output_type": "execute_result"
    }
   ],
   "source": [
    "#Let's also take a look at y_test as well\n",
    "y_test.iloc[:10]"
   ]
  },
  {
   "cell_type": "markdown",
   "metadata": {},
   "source": [
    "# Switch the bike rentals back to actual values"
   ]
  },
  {
   "cell_type": "code",
   "execution_count": 190,
   "metadata": {},
   "outputs": [
    {
     "name": "stdout",
     "output_type": "stream",
     "text": [
      "[ 0.03703152  0.27632794  0.08713228 ...  0.0457923   0.11054258\n",
      " -0.21667886]\n",
      "1820.2781318569573\n"
     ]
    }
   ],
   "source": [
    "# Need to call exp() function to convert back from log value to actual values.\n",
    "\n",
    "import math\n",
    "\n",
    "# View examples of the actual and predicted rentals\n",
    "\n",
    "LinReg_pred\n",
    "\n",
    "max_value = np.max(LinReg_pred)\n",
    "scaled_LinReg_pred = LinReg_pred -max_value\n",
    "exp_scaled_LinReg_pred = np.exp(scaled_LinReg_pred)\n",
    "LinReg_pred_final = exp_scaled_LinReg_pred / np.sum(exp_scaled_LinReg_pred)\n",
    "print (LinReg)\n",
    "print (max_value)"
   ]
  },
  {
   "cell_type": "markdown",
   "metadata": {},
   "source": [
    "# Try a different algorithm"
   ]
  },
  {
   "cell_type": "code",
   "execution_count": 201,
   "metadata": {},
   "outputs": [
    {
     "name": "stdout",
     "output_type": "stream",
     "text": [
      "[0. 0. 0. ... 0. 0. 0.]\n",
      "3.4240000000000013\n"
     ]
    }
   ],
   "source": [
    "# Create a model using the random forest algorithm.\n",
    "from sklearn.ensemble import RandomForestRegressor\n",
    "\n",
    "# Create the random forest regressor\n",
    "rf = RandomForestRegressor(n_estimators=100, random_state=0)\n",
    "\n",
    "# Fit the regressor to your training data\n",
    "rf.fit(x_train, y_train)\n",
    "\n",
    "# Make predictions on the test data\n",
    "rf_pred = rf.predict(x_test)\n",
    "\n",
    "# The rest of the code doesn't need to change, but here it is for reference:\n",
    "max_value = np.max(rf_pred)\n",
    "scaled_rf_pred = rf_pred - max_value\n",
    "exp_scaled_rf_pred = np.exp(scaled_rf_pred)\n",
    "rf_pred_final = exp_scaled_rf_pred / np.sum(exp_scaled_rf_pred)\n",
    "print(rf_pred)\n",
    "print(max_value)"
   ]
  },
  {
   "cell_type": "markdown",
   "metadata": {},
   "source": [
    "# View examples of the actual and predicted Rentals"
   ]
  },
  {
   "cell_type": "code",
   "execution_count": 227,
   "metadata": {},
   "outputs": [
    {
     "name": "stdout",
     "output_type": "stream",
     "text": [
      "      actual  predicted\n",
      "7351     NaN       1.00\n",
      "3608     NaN       1.00\n",
      "8026     NaN       1.00\n",
      "4382     NaN       1.00\n",
      "244      NaN       1.04\n",
      "8349     NaN       1.00\n",
      "2730     NaN       1.00\n",
      "8202     NaN       1.04\n",
      "2812     NaN       1.00\n",
      "7918     NaN       1.00\n"
     ]
    }
   ],
   "source": [
    "import math\n",
    "import pandas as pd\n",
    "\n",
    "# Make predictions using the random forest regressor\n",
    "predicted_rentals = rf.predict(x_test)\n",
    "\n",
    "# Create a DataFrame to hold the actual and predicted number of bike rentals\n",
    "predictions = pd.DataFrame(x_test, columns=['actual'])\n",
    "predictions['predicted'] = predicted_rentals\n",
    "\n",
    "# Define a function to scale the prices back to actual values\n",
    "def rf_pred(x_test):\n",
    "    return math.exp(x_test)\n",
    "\n",
    "# Scale the prices back to actual values\n",
    "predictions['predicted'] = predictions['predicted'].apply(rf_pred)\n",
    "\n",
    "# View examples of the actual and predicted rentals\n",
    "with pd.option_context('float_format', '{:,.2f}'.format):\n",
    "    print(predictions.head(10))\n",
    "\n"
   ]
  },
  {
   "cell_type": "code",
   "execution_count": null,
   "metadata": {},
   "outputs": [],
   "source": []
  }
 ],
 "metadata": {
  "kernelspec": {
   "display_name": "Python 3 (ipykernel)",
   "language": "python",
   "name": "python3"
  },
  "language_info": {
   "codemirror_mode": {
    "name": "ipython",
    "version": 3
   },
   "file_extension": ".py",
   "mimetype": "text/x-python",
   "name": "python",
   "nbconvert_exporter": "python",
   "pygments_lexer": "ipython3",
   "version": "3.8.15"
  },
  "nav_menu": {
   "height": "279px",
   "width": "309px"
  },
  "toc": {
   "nav_menu": {},
   "number_sections": true,
   "sideBar": true,
   "skip_h1_title": false,
   "toc_cell": false,
   "toc_position": {},
   "toc_section_display": "block",
   "toc_window_display": false
  },
  "widgets": {
   "application/vnd.jupyter.widget-state+json": {
    "state": {},
    "version_major": 2,
    "version_minor": 0
   }
  }
 },
 "nbformat": 4,
 "nbformat_minor": 4
}
